{
 "cells": [
  {
   "cell_type": "markdown",
   "id": "5793c49a",
   "metadata": {},
   "source": [
    "## Vehicle Clustering (Unsupervised Learning)\n",
    "\n",
    "<p>\n",
    "<b>Scenario</b> - You are working for an automotive company, and your task is to cluster vehicles into groups based on their features such as weight, engine size, and horsepower.\n",
    "</p>"
   ]
  },
  {
   "cell_type": "markdown",
   "id": "d09d54d2",
   "metadata": {},
   "source": []
  }
 ],
 "metadata": {
  "language_info": {
   "name": "python"
  }
 },
 "nbformat": 4,
 "nbformat_minor": 5
}
