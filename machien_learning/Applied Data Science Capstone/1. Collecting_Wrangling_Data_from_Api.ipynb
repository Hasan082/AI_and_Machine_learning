{
 "cells": [
  {
   "metadata": {},
   "cell_type": "markdown",
   "source": "# Collecting Wrangling Data from SpaceX Api",
   "id": "78da78057dbd5282"
  },
  {
   "metadata": {},
   "cell_type": "markdown",
   "source": [
    "### Project Description\n",
    "\n",
    "In this capstone project, we aim to predict whether the Falcon 9 first stage will successfully land. \n",
    "\n",
    "SpaceX advertises Falcon 9 rocket launches at a cost of 62 million USD, whereas other providers charge upwards of  165 million USD per launch. A significant portion of SpaceX’s cost savings comes from its ability to reuse the first stage of the rocket.\n",
    "\n",
    "By predicting the success of the first stage landing, we can estimate the cost of a launch. This information can be valuable for alternative companies that may want to compete with SpaceX for launch contracts.\n",
    "\n",
    "In this lab, we will:\n",
    "- Collect data from the SpaceX API.\n",
    "- Ensure the data is properly formatted for analysis."
   ],
   "id": "ccfac9d13f2acb57"
  },
  {
   "metadata": {},
   "cell_type": "markdown",
   "source": [
    "## Goal / Objectives\n",
    "\n",
    "### Objective\n",
    "Reduce the cost of a launch by determining whether SpaceX can reuse the first stage of its rockets.\n",
    "\n",
    "### Tasks\n",
    "- Perform basic data wrangling and formatting.\n",
    "- Retrieve data from the SpaceX API.\n",
    "- Clean and preprocess the requested data."
   ],
   "id": "59813d0f805de498"
  },
  {
   "metadata": {},
   "cell_type": "markdown",
   "source": "## Import Libraries and Define Auxiliary Functions",
   "id": "a06c6730507a05a4"
  },
  {
   "metadata": {
    "ExecuteTime": {
     "end_time": "2025-05-28T05:05:06.690922Z",
     "start_time": "2025-05-28T05:05:06.683788Z"
    }
   },
   "cell_type": "code",
   "source": [
    "import json\n",
    "import requests\n",
    "import logging\n",
    "import pandas as pd\n",
    "import numpy as np\n",
    "import datetime\n",
    "from tqdm import tqdm\n",
    "\n",
    "# Setting this option will print all collumns of a dataframe\n",
    "pd.set_option('display.max_columns', None)\n",
    "# Setting this option will print all of the data in a feature\n",
    "pd.set_option('display.max_colwidth', None)"
   ],
   "id": "65600d76339f45e",
   "outputs": [],
   "execution_count": 64
  },
  {
   "metadata": {},
   "cell_type": "markdown",
   "source": "## Request and parse the SpaceX launch data using the GET request",
   "id": "aceb41f605b2fcab"
  },
  {
   "metadata": {
    "ExecuteTime": {
     "end_time": "2025-05-28T05:05:26.587408Z",
     "start_time": "2025-05-28T05:05:26.577935Z"
    }
   },
   "cell_type": "code",
   "source": [
    "# FUNCTION FOR CALLING API WITH EXCEPTION HANDING\n",
    "def load_API_call_space(static_url):\n",
    "    try:\n",
    "        response = requests.get(static_url, timeout=10)\n",
    "        response.raise_for_status()\n",
    "        try:\n",
    "            json_data = response.json()\n",
    "            return pd.DataFrame(json_data)\n",
    "        except json.decoder.JSONDecodeError as json_error:\n",
    "            logging.error(f\"JSON decoding error: {json_error}\")\n",
    "            return pd.DataFrame()\n",
    "    except requests.exceptions.RequestException as e:\n",
    "        print(f\"Request error: {e}\")\n",
    "        \n",
    "    return pd.DataFrame()"
   ],
   "id": "301a6ae0585f47a2",
   "outputs": [],
   "execution_count": 65
  },
  {
   "metadata": {
    "ExecuteTime": {
     "end_time": "2025-05-28T05:05:40.823387Z",
     "start_time": "2025-05-28T05:05:29.143934Z"
    }
   },
   "cell_type": "code",
   "source": [
    "url = 'https://cf-courses-data.s3.us.cloud-object-storage.appdomain.cloud/IBM-DS0321EN-SkillsNetwork/datasets/API_call_spacex_api.json'\n",
    "data = load_API_call_space(url)\n",
    "data.sample(2)"
   ],
   "id": "7df9f8561a580be7",
   "outputs": [
    {
     "data": {
      "text/plain": [
       "                                                                         fairings  \\\n",
       "41  {'reused': False, 'recovery_attempt': False, 'recovered': False, 'ships': []}   \n",
       "50                                                                           None   \n",
       "\n",
       "                                                                                                                                                                                                                                                                                                                                                                                                                                                                                                                                                                                                                                                                                                                                                                                                                                                                                                                                                                                                                                                                                                                                                                                                                                                                                                                                                                                                                links  \\\n",
       "41  {'patch': {'small': 'https://images2.imgbox.com/1b/40/Ouyy9Neh_o.png', 'large': 'https://images2.imgbox.com/3b/6c/d5ulGpoh_o.png'}, 'reddit': {'campaign': 'https://www.reddit.com/r/spacex/comments/69hhkm/bulgariasat1_launch_campaign_thread/', 'launch': 'https://www.reddit.com/r/spacex/comments/6isph2/welcome_to_the_rspacex_bulgariasat1_official/', 'media': 'https://www.reddit.com/r/spacex/comments/6iuj1z/rspacex_bulgariasat1_media_thread_videos_images/', 'recovery': 'https://www.reddit.com/r/spacex/comments/6k3kop/b10292_bulgariasat_1_recovery_thread/'}, 'flickr': {'small': [], 'original': ['https://farm5.staticflickr.com/4216/35496028185_ac5456195f_o.jpg', 'https://farm5.staticflickr.com/4278/35496027525_9ab9d90417_o.jpg', 'https://farm5.staticflickr.com/4277/35496026875_fd25c46934_o.jpg', 'https://farm5.staticflickr.com/4257/35496026065_02fe65754b_o.jpg', 'https://farm5.staticflickr.com/4289/35491530485_5a4d0f39ae_o.jpg', 'https://farm5.staticflickr.com/4279/35491529875_1e35ee0a1e_o.jpg', 'https://farm5.staticflickr.com/4230/34681559323_53f05581ca_o.jpg']}, 'presskit': 'http://www.spacex.com/sites/spacex/files/bulgariasat1presskit.pdf', 'webcast': 'https://www.youtube.com/watch?v=Y8mLi-rRTh8', 'youtube_id': 'Y8mLi-rRTh8', 'article': 'https://en.wikipedia.org/wiki/BulgariaSat-1', 'wikipedia': 'https://en.wikipedia.org/wiki/BulgariaSat-1'}   \n",
       "50                                                                                                {'patch': {'small': 'https://images2.imgbox.com/ea/12/8vVzlOeL_o.png', 'large': 'https://images2.imgbox.com/1b/30/oP1DBQ6b_o.png'}, 'reddit': {'campaign': 'https://www.reddit.com/r/spacex/comments/7bxg5a/crs13_launch_campaign_thread/', 'launch': 'https://www.reddit.com/r/spacex/comments/7j725w/rspacex_crs13_official_launch_discussion_updates/', 'media': 'https://www.reddit.com/r/spacex/comments/7j6oxz/rspacex_crs13_media_thread_videos_images_gifs/', 'recovery': None}, 'flickr': {'small': [], 'original': ['https://farm5.staticflickr.com/4591/38372264594_8140bd943d_o.png', 'https://farm5.staticflickr.com/4546/39051469552_13703e6b2e_o.jpg', 'https://farm5.staticflickr.com/4682/39051469662_55c55150c0_o.jpg', 'https://farm5.staticflickr.com/4565/25215551218_2597838c1a_o.jpg', 'https://farm5.staticflickr.com/4680/39051469812_b6f802fc9d_o.jpg', 'https://farm5.staticflickr.com/4517/27304331429_59b9d6c1d4_o.jpg']}, 'presskit': 'http://www.spacex.com/sites/spacex/files/crs13presskit12_11.pdf', 'webcast': 'https://www.youtube.com/watch?v=OPHbqY9LHCs', 'youtube_id': 'OPHbqY9LHCs', 'article': 'https://spaceflightnow.com/2017/12/15/spacexs-50th-falcon-rocket-launch-kicks-off-station-resupply-mission/', 'wikipedia': 'https://en.wikipedia.org/wiki/SpaceX_CRS-13'}   \n",
       "\n",
       "        static_fire_date_utc  static_fire_date_unix    tbd    net  window  \\\n",
       "41  2017-06-15T22:25:00.000Z           1.497566e+09  False  False  7200.0   \n",
       "50  2017-12-06T20:00:00.000Z           1.512590e+09  False  False     0.0   \n",
       "\n",
       "                      rocket  success  \\\n",
       "41  5e9d0d95eda69973a809d1ec     True   \n",
       "50  5e9d0d95eda69973a809d1ec     True   \n",
       "\n",
       "                                                                                                                                                                                                                                                                                           details  \\\n",
       "41  Second time a booster will be reused: Second flight of B1029 after the Iridium mission of January 2017. The satellite will be the first commercial Bulgarian-owned communications satellite and it will provide television broadcasts and other communications services over southeast Europe.   \n",
       "50                                                                                                                                                                                                 Will reuse the Dragon capsule previously flown on CRS-6 and will reuse the booster from CRS-11.   \n",
       "\n",
       "   crew  \\\n",
       "41   []   \n",
       "50   []   \n",
       "\n",
       "                                                                                                       ships  \\\n",
       "41  [5ea6ed2e080df4000697c906, 5ea6ed2f080df4000697c90b, 5ea6ed2f080df4000697c90c, 5ea6ed30080df4000697c913]   \n",
       "50                                                                                [5ea6ed30080df4000697c912]   \n",
       "\n",
       "                      capsules                    payloads  \\\n",
       "41                          []  [5eb0e4c4b6c3bb0006eeb20f]   \n",
       "50  [5e9e2c5cf359188bfb3b266b]  [5eb0e4c5b6c3bb0006eeb218]   \n",
       "\n",
       "                   launchpad  auto_update failures  flight_number  \\\n",
       "41  5e9e4502f509094188566f88         True       []             42   \n",
       "50  5e9e4501f509094ba4566f84         True       []             51   \n",
       "\n",
       "             name                  date_utc   date_unix  \\\n",
       "41  BulgariaSat-1  2017-06-23T19:10:00.000Z  1498245000   \n",
       "50         CRS-13  2017-12-15T15:36:00.000Z  1513352160   \n",
       "\n",
       "                   date_local date_precision  upcoming  \\\n",
       "41  2017-06-23T15:10:00-04:00           hour     False   \n",
       "50  2017-12-15T10:36:00-05:00           hour     False   \n",
       "\n",
       "                                                                                                                                                                                                                   cores  \\\n",
       "41  [{'core': '5e9e28a3f359189e3a3b2645', 'flight': 2, 'gridfins': True, 'legs': True, 'reused': True, 'landing_attempt': True, 'landing_success': True, 'landing_type': 'ASDS', 'landpad': '5e9e3032383ecb6bb234e7ca'}]   \n",
       "50  [{'core': '5e9e28a3f3591856803b264a', 'flight': 2, 'gridfins': True, 'legs': True, 'reused': True, 'landing_attempt': True, 'landing_success': True, 'landing_type': 'RTLS', 'landpad': '5e9e3032383ecb267a34e7c7'}]   \n",
       "\n",
       "                          id  \n",
       "41  5eb87d04ffd86e000604b353  \n",
       "50  5eb87d0effd86e000604b35c  "
      ],
      "text/html": [
       "<div>\n",
       "<style scoped>\n",
       "    .dataframe tbody tr th:only-of-type {\n",
       "        vertical-align: middle;\n",
       "    }\n",
       "\n",
       "    .dataframe tbody tr th {\n",
       "        vertical-align: top;\n",
       "    }\n",
       "\n",
       "    .dataframe thead th {\n",
       "        text-align: right;\n",
       "    }\n",
       "</style>\n",
       "<table border=\"1\" class=\"dataframe\">\n",
       "  <thead>\n",
       "    <tr style=\"text-align: right;\">\n",
       "      <th></th>\n",
       "      <th>fairings</th>\n",
       "      <th>links</th>\n",
       "      <th>static_fire_date_utc</th>\n",
       "      <th>static_fire_date_unix</th>\n",
       "      <th>tbd</th>\n",
       "      <th>net</th>\n",
       "      <th>window</th>\n",
       "      <th>rocket</th>\n",
       "      <th>success</th>\n",
       "      <th>details</th>\n",
       "      <th>crew</th>\n",
       "      <th>ships</th>\n",
       "      <th>capsules</th>\n",
       "      <th>payloads</th>\n",
       "      <th>launchpad</th>\n",
       "      <th>auto_update</th>\n",
       "      <th>failures</th>\n",
       "      <th>flight_number</th>\n",
       "      <th>name</th>\n",
       "      <th>date_utc</th>\n",
       "      <th>date_unix</th>\n",
       "      <th>date_local</th>\n",
       "      <th>date_precision</th>\n",
       "      <th>upcoming</th>\n",
       "      <th>cores</th>\n",
       "      <th>id</th>\n",
       "    </tr>\n",
       "  </thead>\n",
       "  <tbody>\n",
       "    <tr>\n",
       "      <th>41</th>\n",
       "      <td>{'reused': False, 'recovery_attempt': False, 'recovered': False, 'ships': []}</td>\n",
       "      <td>{'patch': {'small': 'https://images2.imgbox.com/1b/40/Ouyy9Neh_o.png', 'large': 'https://images2.imgbox.com/3b/6c/d5ulGpoh_o.png'}, 'reddit': {'campaign': 'https://www.reddit.com/r/spacex/comments/69hhkm/bulgariasat1_launch_campaign_thread/', 'launch': 'https://www.reddit.com/r/spacex/comments/6isph2/welcome_to_the_rspacex_bulgariasat1_official/', 'media': 'https://www.reddit.com/r/spacex/comments/6iuj1z/rspacex_bulgariasat1_media_thread_videos_images/', 'recovery': 'https://www.reddit.com/r/spacex/comments/6k3kop/b10292_bulgariasat_1_recovery_thread/'}, 'flickr': {'small': [], 'original': ['https://farm5.staticflickr.com/4216/35496028185_ac5456195f_o.jpg', 'https://farm5.staticflickr.com/4278/35496027525_9ab9d90417_o.jpg', 'https://farm5.staticflickr.com/4277/35496026875_fd25c46934_o.jpg', 'https://farm5.staticflickr.com/4257/35496026065_02fe65754b_o.jpg', 'https://farm5.staticflickr.com/4289/35491530485_5a4d0f39ae_o.jpg', 'https://farm5.staticflickr.com/4279/35491529875_1e35ee0a1e_o.jpg', 'https://farm5.staticflickr.com/4230/34681559323_53f05581ca_o.jpg']}, 'presskit': 'http://www.spacex.com/sites/spacex/files/bulgariasat1presskit.pdf', 'webcast': 'https://www.youtube.com/watch?v=Y8mLi-rRTh8', 'youtube_id': 'Y8mLi-rRTh8', 'article': 'https://en.wikipedia.org/wiki/BulgariaSat-1', 'wikipedia': 'https://en.wikipedia.org/wiki/BulgariaSat-1'}</td>\n",
       "      <td>2017-06-15T22:25:00.000Z</td>\n",
       "      <td>1.497566e+09</td>\n",
       "      <td>False</td>\n",
       "      <td>False</td>\n",
       "      <td>7200.0</td>\n",
       "      <td>5e9d0d95eda69973a809d1ec</td>\n",
       "      <td>True</td>\n",
       "      <td>Second time a booster will be reused: Second flight of B1029 after the Iridium mission of January 2017. The satellite will be the first commercial Bulgarian-owned communications satellite and it will provide television broadcasts and other communications services over southeast Europe.</td>\n",
       "      <td>[]</td>\n",
       "      <td>[5ea6ed2e080df4000697c906, 5ea6ed2f080df4000697c90b, 5ea6ed2f080df4000697c90c, 5ea6ed30080df4000697c913]</td>\n",
       "      <td>[]</td>\n",
       "      <td>[5eb0e4c4b6c3bb0006eeb20f]</td>\n",
       "      <td>5e9e4502f509094188566f88</td>\n",
       "      <td>True</td>\n",
       "      <td>[]</td>\n",
       "      <td>42</td>\n",
       "      <td>BulgariaSat-1</td>\n",
       "      <td>2017-06-23T19:10:00.000Z</td>\n",
       "      <td>1498245000</td>\n",
       "      <td>2017-06-23T15:10:00-04:00</td>\n",
       "      <td>hour</td>\n",
       "      <td>False</td>\n",
       "      <td>[{'core': '5e9e28a3f359189e3a3b2645', 'flight': 2, 'gridfins': True, 'legs': True, 'reused': True, 'landing_attempt': True, 'landing_success': True, 'landing_type': 'ASDS', 'landpad': '5e9e3032383ecb6bb234e7ca'}]</td>\n",
       "      <td>5eb87d04ffd86e000604b353</td>\n",
       "    </tr>\n",
       "    <tr>\n",
       "      <th>50</th>\n",
       "      <td>None</td>\n",
       "      <td>{'patch': {'small': 'https://images2.imgbox.com/ea/12/8vVzlOeL_o.png', 'large': 'https://images2.imgbox.com/1b/30/oP1DBQ6b_o.png'}, 'reddit': {'campaign': 'https://www.reddit.com/r/spacex/comments/7bxg5a/crs13_launch_campaign_thread/', 'launch': 'https://www.reddit.com/r/spacex/comments/7j725w/rspacex_crs13_official_launch_discussion_updates/', 'media': 'https://www.reddit.com/r/spacex/comments/7j6oxz/rspacex_crs13_media_thread_videos_images_gifs/', 'recovery': None}, 'flickr': {'small': [], 'original': ['https://farm5.staticflickr.com/4591/38372264594_8140bd943d_o.png', 'https://farm5.staticflickr.com/4546/39051469552_13703e6b2e_o.jpg', 'https://farm5.staticflickr.com/4682/39051469662_55c55150c0_o.jpg', 'https://farm5.staticflickr.com/4565/25215551218_2597838c1a_o.jpg', 'https://farm5.staticflickr.com/4680/39051469812_b6f802fc9d_o.jpg', 'https://farm5.staticflickr.com/4517/27304331429_59b9d6c1d4_o.jpg']}, 'presskit': 'http://www.spacex.com/sites/spacex/files/crs13presskit12_11.pdf', 'webcast': 'https://www.youtube.com/watch?v=OPHbqY9LHCs', 'youtube_id': 'OPHbqY9LHCs', 'article': 'https://spaceflightnow.com/2017/12/15/spacexs-50th-falcon-rocket-launch-kicks-off-station-resupply-mission/', 'wikipedia': 'https://en.wikipedia.org/wiki/SpaceX_CRS-13'}</td>\n",
       "      <td>2017-12-06T20:00:00.000Z</td>\n",
       "      <td>1.512590e+09</td>\n",
       "      <td>False</td>\n",
       "      <td>False</td>\n",
       "      <td>0.0</td>\n",
       "      <td>5e9d0d95eda69973a809d1ec</td>\n",
       "      <td>True</td>\n",
       "      <td>Will reuse the Dragon capsule previously flown on CRS-6 and will reuse the booster from CRS-11.</td>\n",
       "      <td>[]</td>\n",
       "      <td>[5ea6ed30080df4000697c912]</td>\n",
       "      <td>[5e9e2c5cf359188bfb3b266b]</td>\n",
       "      <td>[5eb0e4c5b6c3bb0006eeb218]</td>\n",
       "      <td>5e9e4501f509094ba4566f84</td>\n",
       "      <td>True</td>\n",
       "      <td>[]</td>\n",
       "      <td>51</td>\n",
       "      <td>CRS-13</td>\n",
       "      <td>2017-12-15T15:36:00.000Z</td>\n",
       "      <td>1513352160</td>\n",
       "      <td>2017-12-15T10:36:00-05:00</td>\n",
       "      <td>hour</td>\n",
       "      <td>False</td>\n",
       "      <td>[{'core': '5e9e28a3f3591856803b264a', 'flight': 2, 'gridfins': True, 'legs': True, 'reused': True, 'landing_attempt': True, 'landing_success': True, 'landing_type': 'RTLS', 'landpad': '5e9e3032383ecb267a34e7c7'}]</td>\n",
       "      <td>5eb87d0effd86e000604b35c</td>\n",
       "    </tr>\n",
       "  </tbody>\n",
       "</table>\n",
       "</div>"
      ]
     },
     "execution_count": 66,
     "metadata": {},
     "output_type": "execute_result"
    }
   ],
   "execution_count": 66
  },
  {
   "metadata": {
    "ExecuteTime": {
     "end_time": "2025-05-28T05:26:54.921173Z",
     "start_time": "2025-05-28T05:26:54.886975Z"
    }
   },
   "cell_type": "code",
   "source": [
    "# Let's take a subset of our dataframe keeping only the features we want and the flight number, and date_utc.\n",
    "data = data[['rocket', 'payloads', 'launchpad', 'cores', 'flight_number', 'date_utc']]\n",
    "data.head()"
   ],
   "id": "c5f29d4f623efc29",
   "outputs": [
    {
     "data": {
      "text/plain": [
       "                     rocket                  payloads  \\\n",
       "0  5e9d0d95eda69955f709d1eb  5eb0e4b5b6c3bb0006eeb1e1   \n",
       "1  5e9d0d95eda69955f709d1eb  5eb0e4b6b6c3bb0006eeb1e2   \n",
       "3  5e9d0d95eda69955f709d1eb  5eb0e4b7b6c3bb0006eeb1e5   \n",
       "4  5e9d0d95eda69955f709d1eb  5eb0e4b7b6c3bb0006eeb1e6   \n",
       "5  5e9d0d95eda69973a809d1ec  5eb0e4b7b6c3bb0006eeb1e7   \n",
       "\n",
       "                  launchpad  \\\n",
       "0  5e9e4502f5090995de566f86   \n",
       "1  5e9e4502f5090995de566f86   \n",
       "3  5e9e4502f5090995de566f86   \n",
       "4  5e9e4502f5090995de566f86   \n",
       "5  5e9e4501f509094ba4566f84   \n",
       "\n",
       "                                                                                                                                                                                            cores  \\\n",
       "0  {'core': '5e9e289df35918033d3b2623', 'flight': 1, 'gridfins': False, 'legs': False, 'reused': False, 'landing_attempt': False, 'landing_success': None, 'landing_type': None, 'landpad': None}   \n",
       "1  {'core': '5e9e289ef35918416a3b2624', 'flight': 1, 'gridfins': False, 'legs': False, 'reused': False, 'landing_attempt': False, 'landing_success': None, 'landing_type': None, 'landpad': None}   \n",
       "3  {'core': '5e9e289ef3591855dc3b2626', 'flight': 1, 'gridfins': False, 'legs': False, 'reused': False, 'landing_attempt': False, 'landing_success': None, 'landing_type': None, 'landpad': None}   \n",
       "4  {'core': '5e9e289ef359184f103b2627', 'flight': 1, 'gridfins': False, 'legs': False, 'reused': False, 'landing_attempt': False, 'landing_success': None, 'landing_type': None, 'landpad': None}   \n",
       "5  {'core': '5e9e289ef359185f2b3b2628', 'flight': 1, 'gridfins': False, 'legs': False, 'reused': False, 'landing_attempt': False, 'landing_success': None, 'landing_type': None, 'landpad': None}   \n",
       "\n",
       "   flight_number                  date_utc  \n",
       "0              1  2006-03-24T22:30:00.000Z  \n",
       "1              2  2007-03-21T01:10:00.000Z  \n",
       "3              4  2008-09-28T23:15:00.000Z  \n",
       "4              5  2009-07-13T03:35:00.000Z  \n",
       "5              6  2010-06-04T18:45:00.000Z  "
      ],
      "text/html": [
       "<div>\n",
       "<style scoped>\n",
       "    .dataframe tbody tr th:only-of-type {\n",
       "        vertical-align: middle;\n",
       "    }\n",
       "\n",
       "    .dataframe tbody tr th {\n",
       "        vertical-align: top;\n",
       "    }\n",
       "\n",
       "    .dataframe thead th {\n",
       "        text-align: right;\n",
       "    }\n",
       "</style>\n",
       "<table border=\"1\" class=\"dataframe\">\n",
       "  <thead>\n",
       "    <tr style=\"text-align: right;\">\n",
       "      <th></th>\n",
       "      <th>rocket</th>\n",
       "      <th>payloads</th>\n",
       "      <th>launchpad</th>\n",
       "      <th>cores</th>\n",
       "      <th>flight_number</th>\n",
       "      <th>date_utc</th>\n",
       "    </tr>\n",
       "  </thead>\n",
       "  <tbody>\n",
       "    <tr>\n",
       "      <th>0</th>\n",
       "      <td>5e9d0d95eda69955f709d1eb</td>\n",
       "      <td>5eb0e4b5b6c3bb0006eeb1e1</td>\n",
       "      <td>5e9e4502f5090995de566f86</td>\n",
       "      <td>{'core': '5e9e289df35918033d3b2623', 'flight': 1, 'gridfins': False, 'legs': False, 'reused': False, 'landing_attempt': False, 'landing_success': None, 'landing_type': None, 'landpad': None}</td>\n",
       "      <td>1</td>\n",
       "      <td>2006-03-24T22:30:00.000Z</td>\n",
       "    </tr>\n",
       "    <tr>\n",
       "      <th>1</th>\n",
       "      <td>5e9d0d95eda69955f709d1eb</td>\n",
       "      <td>5eb0e4b6b6c3bb0006eeb1e2</td>\n",
       "      <td>5e9e4502f5090995de566f86</td>\n",
       "      <td>{'core': '5e9e289ef35918416a3b2624', 'flight': 1, 'gridfins': False, 'legs': False, 'reused': False, 'landing_attempt': False, 'landing_success': None, 'landing_type': None, 'landpad': None}</td>\n",
       "      <td>2</td>\n",
       "      <td>2007-03-21T01:10:00.000Z</td>\n",
       "    </tr>\n",
       "    <tr>\n",
       "      <th>3</th>\n",
       "      <td>5e9d0d95eda69955f709d1eb</td>\n",
       "      <td>5eb0e4b7b6c3bb0006eeb1e5</td>\n",
       "      <td>5e9e4502f5090995de566f86</td>\n",
       "      <td>{'core': '5e9e289ef3591855dc3b2626', 'flight': 1, 'gridfins': False, 'legs': False, 'reused': False, 'landing_attempt': False, 'landing_success': None, 'landing_type': None, 'landpad': None}</td>\n",
       "      <td>4</td>\n",
       "      <td>2008-09-28T23:15:00.000Z</td>\n",
       "    </tr>\n",
       "    <tr>\n",
       "      <th>4</th>\n",
       "      <td>5e9d0d95eda69955f709d1eb</td>\n",
       "      <td>5eb0e4b7b6c3bb0006eeb1e6</td>\n",
       "      <td>5e9e4502f5090995de566f86</td>\n",
       "      <td>{'core': '5e9e289ef359184f103b2627', 'flight': 1, 'gridfins': False, 'legs': False, 'reused': False, 'landing_attempt': False, 'landing_success': None, 'landing_type': None, 'landpad': None}</td>\n",
       "      <td>5</td>\n",
       "      <td>2009-07-13T03:35:00.000Z</td>\n",
       "    </tr>\n",
       "    <tr>\n",
       "      <th>5</th>\n",
       "      <td>5e9d0d95eda69973a809d1ec</td>\n",
       "      <td>5eb0e4b7b6c3bb0006eeb1e7</td>\n",
       "      <td>5e9e4501f509094ba4566f84</td>\n",
       "      <td>{'core': '5e9e289ef359185f2b3b2628', 'flight': 1, 'gridfins': False, 'legs': False, 'reused': False, 'landing_attempt': False, 'landing_success': None, 'landing_type': None, 'landpad': None}</td>\n",
       "      <td>6</td>\n",
       "      <td>2010-06-04T18:45:00.000Z</td>\n",
       "    </tr>\n",
       "  </tbody>\n",
       "</table>\n",
       "</div>"
      ]
     },
     "execution_count": 75,
     "metadata": {},
     "output_type": "execute_result"
    }
   ],
   "execution_count": 75
  },
  {
   "metadata": {
    "ExecuteTime": {
     "end_time": "2025-05-28T05:07:49.456200Z",
     "start_time": "2025-05-28T05:07:49.438814Z"
    }
   },
   "cell_type": "code",
   "source": [
    "# We will remove rows with multiple cores because those are falcon rockets with 2 extra rocket boosters and rows that have multiple payloads in a single rocket.\n",
    "data = data[data['cores'].map(len)==1]\n",
    "data = data[data['payloads'].map(len)==1]"
   ],
   "id": "a26ebaee66a5ba86",
   "outputs": [],
   "execution_count": 71
  },
  {
   "metadata": {
    "ExecuteTime": {
     "end_time": "2025-05-28T05:08:13.065340Z",
     "start_time": "2025-05-28T05:08:13.055442Z"
    }
   },
   "cell_type": "code",
   "source": [
    "# Since payloads and cores are lists of size 1 we will also extract the single value in the list and replace the feature.\n",
    "data['cores'] = data['cores'].map(lambda x : x[0])\n",
    "data['payloads'] = data['payloads'].map(lambda x : x[0])"
   ],
   "id": "de92544f5882c0f",
   "outputs": [],
   "execution_count": 72
  },
  {
   "metadata": {
    "ExecuteTime": {
     "end_time": "2025-05-28T05:08:30.107238Z",
     "start_time": "2025-05-28T05:08:30.060345Z"
    }
   },
   "cell_type": "code",
   "source": [
    "# We also want to convert the date_utc to a datetime datatype and then extracting the date leaving the time\n",
    "data['date'] = pd.to_datetime(data['date_utc']).dt.date"
   ],
   "id": "66655d587aaf75ca",
   "outputs": [],
   "execution_count": 73
  },
  {
   "metadata": {
    "ExecuteTime": {
     "end_time": "2025-05-28T05:08:41.303311Z",
     "start_time": "2025-05-28T05:08:41.286125Z"
    }
   },
   "cell_type": "code",
   "source": [
    "# Using the date we will restrict the dates of the launches\n",
    "data = data[data['date'] <= datetime.date(2020, 11, 13)]"
   ],
   "id": "d88a223e9ccdbcf0",
   "outputs": [],
   "execution_count": 74
  },
  {
   "metadata": {},
   "cell_type": "markdown",
   "source": [
    "### Data Requirements from the SpaceX API\n",
    "\n",
    "From the **rocket**, we would like to learn:\n",
    "- The **booster name**\n",
    "\n",
    "From the **payload**, we would like to learn:\n",
    "- The **mass** of the payload\n",
    "- The **orbit** that it is going to\n",
    "\n",
    "From the **launchpad**, we would like to know:\n",
    "- The **name of the launch site** being used\n",
    "- The **longitude** of the launch site\n",
    "- The **latitude** of the launch site\n",
    "\n",
    "From **cores**, we would like to learn:\n",
    "- The **outcome** of the landing\n",
    "- The **type** of the landing\n",
    "- The **number of flights** with that core\n",
    "- Whether **gridfins** were used\n",
    "- Whether the core is **reused**\n",
    "- Whether **legs** were used\n",
    "- The **landing pad** used\n",
    "- The **block** of the core (a number used to separate versions of cores)\n",
    "- The **number of times** this specific core has been **reused**\n",
    "- The **serial** of the core\n",
    "\n",
    "The data from these requests will be stored in lists and will be used to create a new **DataFrame** for further analysis."
   ],
   "id": "33cd8a3a43dbf214"
  },
  {
   "metadata": {
    "ExecuteTime": {
     "end_time": "2025-05-28T05:26:47.739373Z",
     "start_time": "2025-05-28T05:26:47.719104Z"
    }
   },
   "cell_type": "code",
   "source": "",
   "id": "c20ef1b68f6e3984",
   "outputs": [],
   "execution_count": 74
  }
 ],
 "metadata": {
  "kernelspec": {
   "display_name": "Python 3",
   "language": "python",
   "name": "python3"
  },
  "language_info": {
   "codemirror_mode": {
    "name": "ipython",
    "version": 2
   },
   "file_extension": ".py",
   "mimetype": "text/x-python",
   "name": "python",
   "nbconvert_exporter": "python",
   "pygments_lexer": "ipython2",
   "version": "2.7.6"
  }
 },
 "nbformat": 4,
 "nbformat_minor": 5
}
