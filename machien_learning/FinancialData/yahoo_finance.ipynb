{
 "cells": [
  {
   "cell_type": "markdown",
   "id": "98567343",
   "metadata": {},
   "source": [
    "# Stock Price Analysis using Yahoo Finance\n",
    "## Author: Hasan\n",
    "**Description: Download financial data and answer 10 key analytical questions with visualizations**"
   ]
  },
  {
   "cell_type": "code",
   "execution_count": null,
   "id": "834942f5",
   "metadata": {},
   "outputs": [],
   "source": [
    "import os\n",
    "import pandas as pd\n",
    "import yfinance as yf\n",
    "import matplotlib.pyplot as plt\n",
    "import seaborn as sns\n",
    "\n",
    "sns.set_theme(style=\"whitegrid\", context=\"talk\")\n",
    "\n",
    "# --- Parameters ---\n",
    "tickers = [\"AAPL\", \"MSFT\", \"AMZN\", \"GOOG\", \"META\", \"TSLA\", \"REGN\", \"AMGN\"]\n",
    "date_start = \"2019-01-01\"\n",
    "date_end = \"2020-12-31\"\n",
    "\n",
    "# --- Download or Load Data ---\n",
    "if os.path.exists(\"prices.csv\"):\n",
    "    prices = pd.read_csv(\"prices.csv\", parse_dates=True, index_col=0)\n",
    "else:\n",
    "    prices = yf.download(tickers, start=date_start, end=date_end, auto_adjust=False)[\"Adj Close\"]\n",
    "    prices.to_csv(\"prices.csv\")\n",
    "\n",
    "prices = prices[tickers]\n",
    "prices.head()\n"
   ]
  }
 ],
 "metadata": {
  "kernelspec": {
   "display_name": "Python 3",
   "language": "python",
   "name": "python3"
  },
  "language_info": {
   "name": "python",
   "version": "3.11.9"
  }
 },
 "nbformat": 4,
 "nbformat_minor": 5
}
