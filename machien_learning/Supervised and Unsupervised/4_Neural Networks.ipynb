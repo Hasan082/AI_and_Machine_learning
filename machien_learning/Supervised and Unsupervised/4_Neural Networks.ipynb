{
 "cells": [
  {
   "cell_type": "markdown",
   "id": "3f8b750f",
   "metadata": {},
   "source": [
    "# Neural Networks"
   ]
  },
  {
   "cell_type": "markdown",
   "id": "a9de7bb1",
   "metadata": {},
   "source": [
    "For this exercise, you will create a simple neural network example. We'll use a synthetic dataset to predict whether a customer will make a purchase based on two features:\n",
    "\n",
    "Website visit duration\n",
    "Number of pages visited.\n",
    "This is a binary classification problem, and we'll use a small neural network for quick execution. Copy and paste the code into the Jupyter Notebook below. Place each step of code into it's own cell, then execute each cell in order."
   ]
  },
  {
   "cell_type": "markdown",
   "id": "6bce5250",
   "metadata": {},
   "source": []
  }
 ],
 "metadata": {
  "kernelspec": {
   "display_name": "myenv",
   "language": "python",
   "name": "python3"
  },
  "language_info": {
   "codemirror_mode": {
    "name": "ipython",
    "version": 3
   },
   "file_extension": ".py",
   "mimetype": "text/x-python",
   "name": "python",
   "nbconvert_exporter": "python",
   "pygments_lexer": "ipython3",
   "version": "3.12.3"
  }
 },
 "nbformat": 4,
 "nbformat_minor": 5
}
