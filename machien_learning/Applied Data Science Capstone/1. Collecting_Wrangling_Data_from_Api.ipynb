{
 "cells": [
  {
   "metadata": {},
   "cell_type": "markdown",
   "source": "# Collecting Wrangling Data from SpaceX Api",
   "id": "78da78057dbd5282"
  },
  {
   "metadata": {},
   "cell_type": "markdown",
   "source": [
    "### Project Description\n",
    "\n",
    "In this capstone project, we aim to predict whether the Falcon 9 first stage will successfully land. \n",
    "\n",
    "SpaceX advertises Falcon 9 rocket launches at a cost of 62 million USD, whereas other providers charge upwards of  165 million USD per launch. A significant portion of SpaceX’s cost savings comes from its ability to reuse the first stage of the rocket.\n",
    "\n",
    "By predicting the success of the first stage landing, we can estimate the cost of a launch. This information can be valuable for alternative companies that may want to compete with SpaceX for launch contracts.\n",
    "\n",
    "In this lab, we will:\n",
    "- Collect data from the SpaceX API.\n",
    "- Ensure the data is properly formatted for analysis."
   ],
   "id": "ccfac9d13f2acb57"
  },
  {
   "metadata": {},
   "cell_type": "markdown",
   "source": [
    "## Goal / Objectives\n",
    "\n",
    "### Objective\n",
    "Reduce the cost of a launch by determining whether SpaceX can reuse the first stage of its rockets.\n",
    "\n",
    "### Tasks\n",
    "- Perform basic data wrangling and formatting.\n",
    "- Retrieve data from the SpaceX API.\n",
    "- Clean and preprocess the requested data."
   ],
   "id": "59813d0f805de498"
  },
  {
   "metadata": {},
   "cell_type": "markdown",
   "source": "## Import Libraries and Define Auxiliary Functions",
   "id": "a06c6730507a05a4"
  },
  {
   "metadata": {
    "jupyter": {
     "is_executing": true
    }
   },
   "cell_type": "code",
   "source": [
    "# Requests allows us to make HTTP requests which we will use to get data from an API\n",
    "import requests\n",
    "# Pandas is a software library written for the Python programming language for data manipulation and analysis.\n",
    "import pandas as pd\n",
    "# NumPy is a library for the Python programming language, adding support for large, multi-dimensional arrays and matrices, along with a large collection of high-level mathematical functions to operate on these arrays\n",
    "import numpy as np\n",
    "# Datetime is a library that allows us to represent dates\n",
    "import datetime\n",
    "\n",
    "# Setting this option will print all collumns of a dataframe\n",
    "pd.set_option('display.max_columns', None)\n",
    "# Setting this option will print all of the data in a feature\n",
    "pd.set_option('display.max_colwidth', None)"
   ],
   "id": "65600d76339f45e",
   "outputs": [],
   "execution_count": null
  },
  {
   "metadata": {},
   "cell_type": "markdown",
   "source": "## Request and parse the SpaceX launch data using the GET request",
   "id": "aceb41f605b2fcab"
  },
  {
   "metadata": {
    "jupyter": {
     "is_executing": true
    }
   },
   "cell_type": "code",
   "source": [
    "# Individual data calling API End point\n",
    "# Takes the dataset and uses the rocket column to call the API and append the data to the list\n",
    "def getBoosterVersion(data):\n",
    "    for x in data['rocket']:\n",
    "        print(x)\n",
    "        if x:\n",
    "            response = requests.get(\"https://api.spacexdata.com/v4/rockets/\" + str(x)).json()\n",
    "            BoosterVersion.append(response['name'])"
   ],
   "id": "9882dab8d5260da8",
   "outputs": [],
   "execution_count": null
  },
  {
   "metadata": {
    "jupyter": {
     "is_executing": true
    }
   },
   "cell_type": "code",
   "source": [
    "# Takes the dataset and uses the launchpad column to call the API and append the data to the list\n",
    "def getLaunchSite(data):\n",
    "    for x in data['launchpad']:\n",
    "        if x:\n",
    "            response = requests.get(\"https://api.spacexdata.com/v4/launchpads/\" + str(x)).json()\n",
    "            Longitude.append(response['longitude'])\n",
    "            Latitude.append(response['latitude'])\n",
    "            LaunchSite.append(response['name'])"
   ],
   "id": "24c0b327eb2af620",
   "outputs": [],
   "execution_count": null
  },
  {
   "metadata": {
    "jupyter": {
     "is_executing": true
    }
   },
   "cell_type": "code",
   "source": [
    "# Takes the dataset and uses the payloads column to call the API and append the data to the lists\n",
    "def getPayloadData(data):\n",
    "    for load in data['payloads']:\n",
    "        if load:\n",
    "            response = requests.get(\"https://api.spacexdata.com/v4/payloads/\" + load).json()\n",
    "            PayloadMass.append(response['mass_kg'])\n",
    "            Orbit.append(response['orbit'])"
   ],
   "id": "635f70368f02b77",
   "outputs": [],
   "execution_count": null
  },
  {
   "metadata": {
    "jupyter": {
     "is_executing": true
    }
   },
   "cell_type": "code",
   "source": [
    "# Takes the dataset and uses the cores column to call the API and append the data to the lists\n",
    "def getCoreData(data):\n",
    "    for core in data['cores']:\n",
    "        if core['core'] != None:\n",
    "            response = requests.get(\"https://api.spacexdata.com/v4/cores/\" + core['core']).json()\n",
    "            Block.append(response['block'])\n",
    "            ReusedCount.append(response['reuse_count'])\n",
    "            Serial.append(response['serial'])\n",
    "        else:\n",
    "            Block.append(None)\n",
    "            ReusedCount.append(None)\n",
    "            Serial.append(None)\n",
    "        Outcome.append(str(core['landing_success']) + ' ' + str(core['landing_type']))\n",
    "        Flights.append(core['flight'])\n",
    "        GridFins.append(core['gridfins'])\n",
    "        Reused.append(core['reused'])\n",
    "        Legs.append(core['legs'])\n",
    "        LandingPad.append(core['landpad'])"
   ],
   "id": "bd9b98a38d194950",
   "outputs": [],
   "execution_count": null
  },
  {
   "metadata": {
    "jupyter": {
     "is_executing": true
    }
   },
   "cell_type": "code",
   "source": "spacex_url = \"https://api.spacexdata.com/v4/launches/past\"",
   "id": "50128e5430049d4",
   "outputs": [],
   "execution_count": null
  },
  {
   "metadata": {
    "jupyter": {
     "is_executing": true
    }
   },
   "cell_type": "code",
   "source": [
    "response = requests.get(spacex_url)\n",
    "print(response.content[:300])"
   ],
   "id": "bfab810c99300fc1",
   "outputs": [],
   "execution_count": null
  },
  {
   "metadata": {
    "jupyter": {
     "is_executing": true
    }
   },
   "cell_type": "code",
   "source": "static_json_url = 'https://cf-courses-data.s3.us.cloud-object-storage.appdomain.cloud/IBM-DS0321EN-SkillsNetwork/datasets/API_call_spacex_api.json'",
   "id": "9af8fd7016ee3b53",
   "outputs": [],
   "execution_count": null
  },
  {
   "metadata": {
    "jupyter": {
     "is_executing": true
    }
   },
   "cell_type": "code",
   "source": [
    "response = requests.get(static_json_url)\n",
    "data = pd.DataFrame(response.json())"
   ],
   "id": "f62a94404c2b9be5",
   "outputs": [],
   "execution_count": null
  },
  {
   "metadata": {
    "jupyter": {
     "is_executing": true
    }
   },
   "cell_type": "code",
   "source": "data.head()",
   "id": "7436770581b04fe6",
   "outputs": [],
   "execution_count": null
  },
  {
   "metadata": {
    "jupyter": {
     "is_executing": true
    }
   },
   "cell_type": "code",
   "source": [
    "# Lets take a subset of our dataframe keeping only the features we want and the flight number, and date_utc.\n",
    "data = data[['rocket', 'payloads', 'launchpad', 'cores', 'flight_number', 'date_utc']]\n",
    "\n",
    "# We will remove rows with multiple cores because those are falcon rockets with 2 extra rocket boosters and rows that have multiple payloads in a single rocket.\n",
    "data = data[data['cores'].map(len) == 1]\n",
    "data = data[data['payloads'].map(len) == 1]\n",
    "\n",
    "# Since payloads and cores are lists of size 1 we will also extract the single value in the list and replace the feature.\n",
    "data['cores'] = data['cores'].map(lambda x: x[0])\n",
    "data['payloads'] = data['payloads'].map(lambda x: x[0])\n",
    "\n",
    "# We also want to convert the date_utc to a datetime datatype and then extracting the date leaving the time\n",
    "data['date'] = pd.to_datetime(data['date_utc']).dt.date\n",
    "\n",
    "# Using the date we will restrict the dates of the launches\n",
    "data = data[data['date'] <= datetime.date(2020, 11, 13)]"
   ],
   "id": "a0c56f0d5ab6c156",
   "outputs": [],
   "execution_count": null
  },
  {
   "metadata": {
    "jupyter": {
     "is_executing": true
    }
   },
   "cell_type": "code",
   "source": [
    "# # FUNCTION FOR CALLING API WITH EXCEPTION HANDING\n",
    "# def load_API_call_space(static_url):\n",
    "#     try:\n",
    "#         response = requests.get(static_url)\n",
    "#         response.raise_for_status()\n",
    "#         json_data = response.json()\n",
    "#         return pd.DataFrame(json_data)\n",
    "#     except json.decoder.JSONDecodeError as json_error:\n",
    "#         logging.error(f\"JSON decoding error: {json_error}\")\n",
    "#         return pd.DataFrame()"
   ],
   "id": "301a6ae0585f47a2",
   "outputs": [],
   "execution_count": null
  },
  {
   "metadata": {
    "ExecuteTime": {
     "end_time": "2025-05-30T05:00:57.603232Z",
     "start_time": "2025-05-30T05:00:57.600826Z"
    }
   },
   "cell_type": "code",
   "source": [
    "#Global variables \n",
    "BoosterVersion = []\n",
    "PayloadMass = []\n",
    "Orbit = []\n",
    "LaunchSite = []\n",
    "Outcome = []\n",
    "Flights = []\n",
    "GridFins = []\n",
    "Reused = []\n",
    "Legs = []\n",
    "LandingPad = []\n",
    "Block = []\n",
    "ReusedCount = []\n",
    "Serial = []\n",
    "Longitude = []\n",
    "Latitude = []"
   ],
   "id": "c20ef1b68f6e3984",
   "outputs": [],
   "execution_count": 37
  },
  {
   "metadata": {
    "ExecuteTime": {
     "end_time": "2025-05-30T05:00:57.608344Z",
     "start_time": "2025-05-30T05:00:57.605555Z"
    }
   },
   "cell_type": "code",
   "source": [
    "# Check the variable\n",
    "BoosterVersion"
   ],
   "id": "86a286deef698e9a",
   "outputs": [
    {
     "data": {
      "text/plain": [
       "[]"
      ]
     },
     "execution_count": 38,
     "metadata": {},
     "output_type": "execute_result"
    }
   ],
   "execution_count": 38
  },
  {
   "metadata": {
    "ExecuteTime": {
     "end_time": "2025-05-30T05:01:31.925092Z",
     "start_time": "2025-05-30T05:00:57.608933Z"
    }
   },
   "cell_type": "code",
   "source": [
    "# Call getBoosterVersion\n",
    "getBoosterVersion(data)"
   ],
   "id": "dd0e1db67b4e1dc2",
   "outputs": [
    {
     "name": "stdout",
     "output_type": "stream",
     "text": [
      "5e9d0d95eda69955f709d1eb\n",
      "5e9d0d95eda69955f709d1eb\n",
      "5e9d0d95eda69955f709d1eb\n",
      "5e9d0d95eda69955f709d1eb\n",
      "5e9d0d95eda69973a809d1ec\n",
      "5e9d0d95eda69973a809d1ec\n",
      "5e9d0d95eda69973a809d1ec\n",
      "5e9d0d95eda69973a809d1ec\n",
      "5e9d0d95eda69973a809d1ec\n",
      "5e9d0d95eda69973a809d1ec\n",
      "5e9d0d95eda69973a809d1ec\n",
      "5e9d0d95eda69973a809d1ec\n",
      "5e9d0d95eda69973a809d1ec\n",
      "5e9d0d95eda69973a809d1ec\n",
      "5e9d0d95eda69973a809d1ec\n",
      "5e9d0d95eda69973a809d1ec\n",
      "5e9d0d95eda69973a809d1ec\n",
      "5e9d0d95eda69973a809d1ec\n",
      "5e9d0d95eda69973a809d1ec\n",
      "5e9d0d95eda69973a809d1ec\n",
      "5e9d0d95eda69973a809d1ec\n",
      "5e9d0d95eda69973a809d1ec\n",
      "5e9d0d95eda69973a809d1ec\n",
      "5e9d0d95eda69973a809d1ec\n",
      "5e9d0d95eda69973a809d1ec\n",
      "5e9d0d95eda69973a809d1ec\n",
      "5e9d0d95eda69973a809d1ec\n",
      "5e9d0d95eda69973a809d1ec\n",
      "5e9d0d95eda69973a809d1ec\n",
      "5e9d0d95eda69973a809d1ec\n",
      "5e9d0d95eda69973a809d1ec\n",
      "5e9d0d95eda69973a809d1ec\n",
      "5e9d0d95eda69973a809d1ec\n",
      "5e9d0d95eda69973a809d1ec\n",
      "5e9d0d95eda69973a809d1ec\n",
      "5e9d0d95eda69973a809d1ec\n",
      "5e9d0d95eda69973a809d1ec\n",
      "5e9d0d95eda69973a809d1ec\n",
      "5e9d0d95eda69973a809d1ec\n",
      "5e9d0d95eda69973a809d1ec\n",
      "5e9d0d95eda69973a809d1ec\n",
      "5e9d0d95eda69973a809d1ec\n",
      "5e9d0d95eda69973a809d1ec\n",
      "5e9d0d95eda69973a809d1ec\n",
      "5e9d0d95eda69973a809d1ec\n",
      "5e9d0d95eda69973a809d1ec\n",
      "5e9d0d95eda69973a809d1ec\n",
      "5e9d0d95eda69973a809d1ec\n",
      "5e9d0d95eda69973a809d1ec\n",
      "5e9d0d95eda69973a809d1ec\n",
      "5e9d0d95eda69973a809d1ec\n",
      "5e9d0d95eda69973a809d1ec\n",
      "5e9d0d95eda69973a809d1ec\n",
      "5e9d0d95eda69973a809d1ec\n",
      "5e9d0d95eda69973a809d1ec\n",
      "5e9d0d95eda69973a809d1ec\n",
      "5e9d0d95eda69973a809d1ec\n",
      "5e9d0d95eda69973a809d1ec\n",
      "5e9d0d95eda69973a809d1ec\n",
      "5e9d0d95eda69973a809d1ec\n",
      "5e9d0d95eda69973a809d1ec\n",
      "5e9d0d95eda69973a809d1ec\n",
      "5e9d0d95eda69973a809d1ec\n",
      "5e9d0d95eda69973a809d1ec\n",
      "5e9d0d95eda69973a809d1ec\n",
      "5e9d0d95eda69973a809d1ec\n",
      "5e9d0d95eda69973a809d1ec\n",
      "5e9d0d95eda69973a809d1ec\n",
      "5e9d0d95eda69973a809d1ec\n",
      "5e9d0d95eda69973a809d1ec\n",
      "5e9d0d95eda69973a809d1ec\n",
      "5e9d0d95eda69973a809d1ec\n",
      "5e9d0d95eda69973a809d1ec\n",
      "5e9d0d95eda69973a809d1ec\n",
      "5e9d0d95eda69973a809d1ec\n",
      "5e9d0d95eda69973a809d1ec\n",
      "5e9d0d95eda69973a809d1ec\n",
      "5e9d0d95eda69973a809d1ec\n",
      "5e9d0d95eda69973a809d1ec\n",
      "5e9d0d95eda69973a809d1ec\n",
      "5e9d0d95eda69973a809d1ec\n",
      "5e9d0d95eda69973a809d1ec\n",
      "5e9d0d95eda69973a809d1ec\n",
      "5e9d0d95eda69973a809d1ec\n",
      "5e9d0d95eda69973a809d1ec\n",
      "5e9d0d95eda69973a809d1ec\n",
      "5e9d0d95eda69973a809d1ec\n",
      "5e9d0d95eda69973a809d1ec\n",
      "5e9d0d95eda69973a809d1ec\n",
      "5e9d0d95eda69973a809d1ec\n",
      "5e9d0d95eda69973a809d1ec\n",
      "5e9d0d95eda69973a809d1ec\n",
      "5e9d0d95eda69973a809d1ec\n",
      "5e9d0d95eda69973a809d1ec\n"
     ]
    }
   ],
   "execution_count": 39
  },
  {
   "metadata": {
    "ExecuteTime": {
     "end_time": "2025-05-30T05:02:06.230720Z",
     "start_time": "2025-05-30T05:01:31.929020Z"
    }
   },
   "cell_type": "code",
   "source": [
    "# Test The data is populating perfectly\n",
    "getBoosterVersion(data)\n",
    "BoosterVersion[0:5]"
   ],
   "id": "479bedeb37ac0f8d",
   "outputs": [
    {
     "name": "stdout",
     "output_type": "stream",
     "text": [
      "5e9d0d95eda69955f709d1eb\n",
      "5e9d0d95eda69955f709d1eb\n",
      "5e9d0d95eda69955f709d1eb\n",
      "5e9d0d95eda69955f709d1eb\n",
      "5e9d0d95eda69973a809d1ec\n",
      "5e9d0d95eda69973a809d1ec\n",
      "5e9d0d95eda69973a809d1ec\n",
      "5e9d0d95eda69973a809d1ec\n",
      "5e9d0d95eda69973a809d1ec\n",
      "5e9d0d95eda69973a809d1ec\n",
      "5e9d0d95eda69973a809d1ec\n",
      "5e9d0d95eda69973a809d1ec\n",
      "5e9d0d95eda69973a809d1ec\n",
      "5e9d0d95eda69973a809d1ec\n",
      "5e9d0d95eda69973a809d1ec\n",
      "5e9d0d95eda69973a809d1ec\n",
      "5e9d0d95eda69973a809d1ec\n",
      "5e9d0d95eda69973a809d1ec\n",
      "5e9d0d95eda69973a809d1ec\n",
      "5e9d0d95eda69973a809d1ec\n",
      "5e9d0d95eda69973a809d1ec\n",
      "5e9d0d95eda69973a809d1ec\n",
      "5e9d0d95eda69973a809d1ec\n",
      "5e9d0d95eda69973a809d1ec\n",
      "5e9d0d95eda69973a809d1ec\n",
      "5e9d0d95eda69973a809d1ec\n",
      "5e9d0d95eda69973a809d1ec\n",
      "5e9d0d95eda69973a809d1ec\n",
      "5e9d0d95eda69973a809d1ec\n",
      "5e9d0d95eda69973a809d1ec\n",
      "5e9d0d95eda69973a809d1ec\n",
      "5e9d0d95eda69973a809d1ec\n",
      "5e9d0d95eda69973a809d1ec\n",
      "5e9d0d95eda69973a809d1ec\n",
      "5e9d0d95eda69973a809d1ec\n",
      "5e9d0d95eda69973a809d1ec\n",
      "5e9d0d95eda69973a809d1ec\n",
      "5e9d0d95eda69973a809d1ec\n",
      "5e9d0d95eda69973a809d1ec\n",
      "5e9d0d95eda69973a809d1ec\n",
      "5e9d0d95eda69973a809d1ec\n",
      "5e9d0d95eda69973a809d1ec\n",
      "5e9d0d95eda69973a809d1ec\n",
      "5e9d0d95eda69973a809d1ec\n",
      "5e9d0d95eda69973a809d1ec\n",
      "5e9d0d95eda69973a809d1ec\n",
      "5e9d0d95eda69973a809d1ec\n",
      "5e9d0d95eda69973a809d1ec\n",
      "5e9d0d95eda69973a809d1ec\n",
      "5e9d0d95eda69973a809d1ec\n",
      "5e9d0d95eda69973a809d1ec\n",
      "5e9d0d95eda69973a809d1ec\n",
      "5e9d0d95eda69973a809d1ec\n",
      "5e9d0d95eda69973a809d1ec\n",
      "5e9d0d95eda69973a809d1ec\n",
      "5e9d0d95eda69973a809d1ec\n",
      "5e9d0d95eda69973a809d1ec\n",
      "5e9d0d95eda69973a809d1ec\n",
      "5e9d0d95eda69973a809d1ec\n",
      "5e9d0d95eda69973a809d1ec\n",
      "5e9d0d95eda69973a809d1ec\n",
      "5e9d0d95eda69973a809d1ec\n",
      "5e9d0d95eda69973a809d1ec\n",
      "5e9d0d95eda69973a809d1ec\n",
      "5e9d0d95eda69973a809d1ec\n",
      "5e9d0d95eda69973a809d1ec\n",
      "5e9d0d95eda69973a809d1ec\n",
      "5e9d0d95eda69973a809d1ec\n",
      "5e9d0d95eda69973a809d1ec\n",
      "5e9d0d95eda69973a809d1ec\n",
      "5e9d0d95eda69973a809d1ec\n",
      "5e9d0d95eda69973a809d1ec\n",
      "5e9d0d95eda69973a809d1ec\n",
      "5e9d0d95eda69973a809d1ec\n",
      "5e9d0d95eda69973a809d1ec\n",
      "5e9d0d95eda69973a809d1ec\n",
      "5e9d0d95eda69973a809d1ec\n",
      "5e9d0d95eda69973a809d1ec\n",
      "5e9d0d95eda69973a809d1ec\n",
      "5e9d0d95eda69973a809d1ec\n",
      "5e9d0d95eda69973a809d1ec\n",
      "5e9d0d95eda69973a809d1ec\n",
      "5e9d0d95eda69973a809d1ec\n",
      "5e9d0d95eda69973a809d1ec\n",
      "5e9d0d95eda69973a809d1ec\n",
      "5e9d0d95eda69973a809d1ec\n",
      "5e9d0d95eda69973a809d1ec\n",
      "5e9d0d95eda69973a809d1ec\n",
      "5e9d0d95eda69973a809d1ec\n",
      "5e9d0d95eda69973a809d1ec\n",
      "5e9d0d95eda69973a809d1ec\n",
      "5e9d0d95eda69973a809d1ec\n",
      "5e9d0d95eda69973a809d1ec\n",
      "5e9d0d95eda69973a809d1ec\n"
     ]
    },
    {
     "data": {
      "text/plain": [
       "['Falcon 1', 'Falcon 1', 'Falcon 1', 'Falcon 1', 'Falcon 9']"
      ]
     },
     "execution_count": 40,
     "metadata": {},
     "output_type": "execute_result"
    }
   ],
   "execution_count": 40
  },
  {
   "metadata": {
    "ExecuteTime": {
     "end_time": "2025-05-30T05:02:39.921753Z",
     "start_time": "2025-05-30T05:02:06.232416Z"
    }
   },
   "cell_type": "code",
   "source": [
    "# Call getLaunchSite\n",
    "getLaunchSite(data)"
   ],
   "id": "177175e507b2736b",
   "outputs": [],
   "execution_count": 41
  },
  {
   "metadata": {
    "jupyter": {
     "is_executing": true
    },
    "ExecuteTime": {
     "start_time": "2025-05-30T05:02:39.923739Z"
    }
   },
   "cell_type": "code",
   "source": [
    "# Call getPayloadData\n",
    "getPayloadData(data)"
   ],
   "id": "1c7ad31a820fd248",
   "outputs": [],
   "execution_count": null
  },
  {
   "metadata": {
    "jupyter": {
     "is_executing": true
    }
   },
   "cell_type": "code",
   "source": [
    "# Call getCoreData\n",
    "getCoreData(data)"
   ],
   "id": "29325e211e4b9f9d",
   "outputs": [],
   "execution_count": null
  },
  {
   "metadata": {},
   "cell_type": "markdown",
   "source": "## Finally, let's construct our dataset using the data we have obtained. We we combine the columns into a dictionary.",
   "id": "b2d393a9f2be8e11"
  },
  {
   "metadata": {
    "jupyter": {
     "is_executing": true
    }
   },
   "cell_type": "code",
   "source": [
    "launch_dict = {\n",
    "    'FlightNumber': list(data['flight_number']),\n",
    "    'Date': list(data['date']),\n",
    "    'BoosterVersion': BoosterVersion,\n",
    "    'PayloadMass': PayloadMass,\n",
    "    'Orbit': Orbit,\n",
    "    'LaunchSite': LaunchSite,\n",
    "    'Outcome': Outcome,\n",
    "    'Flights': Flights,\n",
    "    'GridFins': GridFins,\n",
    "    'Reused': Reused,\n",
    "    'Legs': Legs,\n",
    "    'LandingPad': LandingPad,\n",
    "    'Block': Block,\n",
    "    'ReusedCount': ReusedCount,\n",
    "    'Serial': Serial,\n",
    "    'Longitude': Longitude,\n",
    "    'Latitude': Latitude\n",
    "}"
   ],
   "id": "4204c7ff2fdb16df",
   "outputs": [],
   "execution_count": null
  },
  {
   "metadata": {
    "jupyter": {
     "is_executing": true
    }
   },
   "cell_type": "code",
   "source": [
    "for key, value in launch_dict.items():\n",
    "    print(f\"{key}: {len(value)}\")"
   ],
   "id": "e0a09ea6e534c252",
   "outputs": [],
   "execution_count": null
  },
  {
   "metadata": {
    "jupyter": {
     "is_executing": true
    }
   },
   "cell_type": "code",
   "source": [
    "# Create a data from launch_dict\n",
    "df = pd.DataFrame(launch_dict)\n",
    "df.head()"
   ],
   "id": "90818c3276b9a349",
   "outputs": [],
   "execution_count": null
  },
  {
   "metadata": {
    "jupyter": {
     "is_executing": true
    }
   },
   "cell_type": "code",
   "source": [
    "## Show info\n",
    "df.info()"
   ],
   "id": "6b89cbfc22f94c4b",
   "outputs": [],
   "execution_count": null
  },
  {
   "metadata": {
    "ExecuteTime": {
     "end_time": "2025-05-28T09:51:27.270619Z",
     "start_time": "2025-05-28T09:51:27.245253Z"
    }
   },
   "cell_type": "code",
   "source": [
    "# Check the null value\n",
    "nl = df.isna().sum()\n",
    "nl = nl[nl > 0]\n",
    "nl"
   ],
   "id": "ac6fc56f21f200e7",
   "outputs": [
    {
     "data": {
      "text/plain": [
       "PayloadMass     6\n",
       "LandingPad     30\n",
       "Block           4\n",
       "dtype: int64"
      ]
     },
     "execution_count": 533,
     "metadata": {},
     "output_type": "execute_result"
    }
   ],
   "execution_count": 533
  },
  {
   "metadata": {
    "ExecuteTime": {
     "end_time": "2025-05-28T09:52:32.089861Z",
     "start_time": "2025-05-28T09:52:31.907938Z"
    }
   },
   "cell_type": "code",
   "source": "data['BoosterVersion'] = data[data['BoosterVersion']!='Falcon 1']",
   "id": "841a1470bc5ec4ba",
   "outputs": [
    {
     "ename": "KeyError",
     "evalue": "'BoosterVersion'",
     "output_type": "error",
     "traceback": [
      "\u001B[31m---------------------------------------------------------------------------\u001B[39m",
      "\u001B[31mKeyError\u001B[39m                                  Traceback (most recent call last)",
      "\u001B[36mFile \u001B[39m\u001B[32m/Users/Python Project/PythonAllProject/AI_and_Machine_learning/AI_and_Machine_learning/.venv/lib/python3.12/site-packages/pandas/core/indexes/base.py:3805\u001B[39m, in \u001B[36mIndex.get_loc\u001B[39m\u001B[34m(self, key)\u001B[39m\n\u001B[32m   3804\u001B[39m \u001B[38;5;28;01mtry\u001B[39;00m:\n\u001B[32m-> \u001B[39m\u001B[32m3805\u001B[39m     \u001B[38;5;28;01mreturn\u001B[39;00m \u001B[38;5;28;43mself\u001B[39;49m\u001B[43m.\u001B[49m\u001B[43m_engine\u001B[49m\u001B[43m.\u001B[49m\u001B[43mget_loc\u001B[49m\u001B[43m(\u001B[49m\u001B[43mcasted_key\u001B[49m\u001B[43m)\u001B[49m\n\u001B[32m   3806\u001B[39m \u001B[38;5;28;01mexcept\u001B[39;00m \u001B[38;5;167;01mKeyError\u001B[39;00m \u001B[38;5;28;01mas\u001B[39;00m err:\n",
      "\u001B[36mFile \u001B[39m\u001B[32mindex.pyx:167\u001B[39m, in \u001B[36mpandas._libs.index.IndexEngine.get_loc\u001B[39m\u001B[34m()\u001B[39m\n",
      "\u001B[36mFile \u001B[39m\u001B[32mindex.pyx:196\u001B[39m, in \u001B[36mpandas._libs.index.IndexEngine.get_loc\u001B[39m\u001B[34m()\u001B[39m\n",
      "\u001B[36mFile \u001B[39m\u001B[32mpandas/_libs/hashtable_class_helper.pxi:7081\u001B[39m, in \u001B[36mpandas._libs.hashtable.PyObjectHashTable.get_item\u001B[39m\u001B[34m()\u001B[39m\n",
      "\u001B[36mFile \u001B[39m\u001B[32mpandas/_libs/hashtable_class_helper.pxi:7089\u001B[39m, in \u001B[36mpandas._libs.hashtable.PyObjectHashTable.get_item\u001B[39m\u001B[34m()\u001B[39m\n",
      "\u001B[31mKeyError\u001B[39m: 'BoosterVersion'",
      "\nThe above exception was the direct cause of the following exception:\n",
      "\u001B[31mKeyError\u001B[39m                                  Traceback (most recent call last)",
      "\u001B[36mCell\u001B[39m\u001B[36m \u001B[39m\u001B[32mIn[534]\u001B[39m\u001B[32m, line 1\u001B[39m\n\u001B[32m----> \u001B[39m\u001B[32m1\u001B[39m data[\u001B[33m'\u001B[39m\u001B[33mBoosterVersion\u001B[39m\u001B[33m'\u001B[39m] = data[\u001B[43mdata\u001B[49m\u001B[43m[\u001B[49m\u001B[33;43m'\u001B[39;49m\u001B[33;43mBoosterVersion\u001B[39;49m\u001B[33;43m'\u001B[39;49m\u001B[43m]\u001B[49m!=\u001B[33m'\u001B[39m\u001B[33mFalcon 1\u001B[39m\u001B[33m'\u001B[39m]\n",
      "\u001B[36mFile \u001B[39m\u001B[32m/Users/Python Project/PythonAllProject/AI_and_Machine_learning/AI_and_Machine_learning/.venv/lib/python3.12/site-packages/pandas/core/frame.py:4102\u001B[39m, in \u001B[36mDataFrame.__getitem__\u001B[39m\u001B[34m(self, key)\u001B[39m\n\u001B[32m   4100\u001B[39m \u001B[38;5;28;01mif\u001B[39;00m \u001B[38;5;28mself\u001B[39m.columns.nlevels > \u001B[32m1\u001B[39m:\n\u001B[32m   4101\u001B[39m     \u001B[38;5;28;01mreturn\u001B[39;00m \u001B[38;5;28mself\u001B[39m._getitem_multilevel(key)\n\u001B[32m-> \u001B[39m\u001B[32m4102\u001B[39m indexer = \u001B[38;5;28;43mself\u001B[39;49m\u001B[43m.\u001B[49m\u001B[43mcolumns\u001B[49m\u001B[43m.\u001B[49m\u001B[43mget_loc\u001B[49m\u001B[43m(\u001B[49m\u001B[43mkey\u001B[49m\u001B[43m)\u001B[49m\n\u001B[32m   4103\u001B[39m \u001B[38;5;28;01mif\u001B[39;00m is_integer(indexer):\n\u001B[32m   4104\u001B[39m     indexer = [indexer]\n",
      "\u001B[36mFile \u001B[39m\u001B[32m/Users/Python Project/PythonAllProject/AI_and_Machine_learning/AI_and_Machine_learning/.venv/lib/python3.12/site-packages/pandas/core/indexes/base.py:3812\u001B[39m, in \u001B[36mIndex.get_loc\u001B[39m\u001B[34m(self, key)\u001B[39m\n\u001B[32m   3807\u001B[39m     \u001B[38;5;28;01mif\u001B[39;00m \u001B[38;5;28misinstance\u001B[39m(casted_key, \u001B[38;5;28mslice\u001B[39m) \u001B[38;5;129;01mor\u001B[39;00m (\n\u001B[32m   3808\u001B[39m         \u001B[38;5;28misinstance\u001B[39m(casted_key, abc.Iterable)\n\u001B[32m   3809\u001B[39m         \u001B[38;5;129;01mand\u001B[39;00m \u001B[38;5;28many\u001B[39m(\u001B[38;5;28misinstance\u001B[39m(x, \u001B[38;5;28mslice\u001B[39m) \u001B[38;5;28;01mfor\u001B[39;00m x \u001B[38;5;129;01min\u001B[39;00m casted_key)\n\u001B[32m   3810\u001B[39m     ):\n\u001B[32m   3811\u001B[39m         \u001B[38;5;28;01mraise\u001B[39;00m InvalidIndexError(key)\n\u001B[32m-> \u001B[39m\u001B[32m3812\u001B[39m     \u001B[38;5;28;01mraise\u001B[39;00m \u001B[38;5;167;01mKeyError\u001B[39;00m(key) \u001B[38;5;28;01mfrom\u001B[39;00m\u001B[38;5;250m \u001B[39m\u001B[34;01merr\u001B[39;00m\n\u001B[32m   3813\u001B[39m \u001B[38;5;28;01mexcept\u001B[39;00m \u001B[38;5;167;01mTypeError\u001B[39;00m:\n\u001B[32m   3814\u001B[39m     \u001B[38;5;66;03m# If we have a listlike key, _check_indexing_error will raise\u001B[39;00m\n\u001B[32m   3815\u001B[39m     \u001B[38;5;66;03m#  InvalidIndexError. Otherwise we fall through and re-raise\u001B[39;00m\n\u001B[32m   3816\u001B[39m     \u001B[38;5;66;03m#  the TypeError.\u001B[39;00m\n\u001B[32m   3817\u001B[39m     \u001B[38;5;28mself\u001B[39m._check_indexing_error(key)\n",
      "\u001B[31mKeyError\u001B[39m: 'BoosterVersion'"
     ]
    }
   ],
   "execution_count": 534
  },
  {
   "metadata": {},
   "cell_type": "code",
   "outputs": [],
   "execution_count": null,
   "source": "",
   "id": "6a499282cd8d956f"
  }
 ],
 "metadata": {
  "kernelspec": {
   "display_name": "Python 3",
   "language": "python",
   "name": "python3"
  },
  "language_info": {
   "codemirror_mode": {
    "name": "ipython",
    "version": 2
   },
   "file_extension": ".py",
   "mimetype": "text/x-python",
   "name": "python",
   "nbconvert_exporter": "python",
   "pygments_lexer": "ipython2",
   "version": "2.7.6"
  }
 },
 "nbformat": 4,
 "nbformat_minor": 5
}
