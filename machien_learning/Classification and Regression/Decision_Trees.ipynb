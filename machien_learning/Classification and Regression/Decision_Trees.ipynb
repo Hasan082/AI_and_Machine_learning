{
 "cells": [
  {
   "metadata": {},
   "cell_type": "markdown",
   "source": [
    "# Decision Trees\n",
    "### Objectives\n",
    " -- After completing this lab you will be able to:\n",
    "\n",
    "- Develop a classification model using Decision Tree Algorithm\n",
    "- Apply Decision Tree classification on a real world dataset.\n",
    "\n",
    "## Introduction\n",
    "* This lab explores decision tree classification, a powerful machine learning technique for making data-driven decisions. You will learn to build, visualize, and evaluate decision trees using a real-world dataset. The dataset used in this lab is that of Drug prediction based on the health parameters of a patient."
   ],
   "id": "7c3b841d8b5f4211"
  },
  {
   "metadata": {},
   "cell_type": "markdown",
   "source": "# Import Libraries",
   "id": "275a8554b9ff24c"
  },
  {
   "metadata": {
    "ExecuteTime": {
     "end_time": "2025-05-18T19:31:16.342215Z",
     "start_time": "2025-05-18T19:31:14.111683Z"
    }
   },
   "cell_type": "code",
   "source": [
    "import numpy as np \n",
    "import pandas as pd\n",
    "from matplotlib import pyplot as plt\n",
    "from sklearn.preprocessing import LabelEncoder\n",
    "from sklearn.model_selection import train_test_split\n",
    "from sklearn.tree import DecisionTreeClassifier, plot_tree\n",
    "from sklearn import metrics\n",
    "\n",
    "%matplotlib inline\n",
    "\n",
    "import warnings\n",
    "warnings.filterwarnings('ignore')"
   ],
   "id": "6e6fe1839e562ba4",
   "outputs": [],
   "execution_count": 1
  },
  {
   "metadata": {},
   "cell_type": "markdown",
   "source": [
    "## About the dataset\n",
    "- Imagine that you are a medical researcher compiling data for a study. You have collected data about a set of patients, all of whom suffered from the same illness. During their course of treatment, each patient responded to one of 5 medications, Drug A, Drug B, Drug C, Drug X and Drug Y.\n",
    "\n",
    "- Part of your job is to build a model to find out which drug might be appropriate for a future patient with the same illness. The features of this dataset are the Age, Sex, Blood Pressure, and Cholesterol of the patients, and the target is the drug that each patient responded to.\n",
    "\n",
    "- It is a sample of a multiclass classifier, and you can use the training part of the dataset to build a decision tree, and then use it to predict the class of an unknown patient or to prescribe a drug to a new patient."
   ],
   "id": "ccf2c2a0e102ee56"
  },
  {
   "metadata": {},
   "cell_type": "markdown",
   "source": "# Downloading the Data",
   "id": "53c8501987b4f51f"
  },
  {
   "metadata": {
    "ExecuteTime": {
     "end_time": "2025-05-18T19:33:57.719580Z",
     "start_time": "2025-05-18T19:33:55.965473Z"
    }
   },
   "cell_type": "code",
   "source": [
    "path= 'https://cf-courses-data.s3.us.cloud-object-storage.appdomain.cloud/IBMDeveloperSkillsNetwork-ML0101EN-SkillsNetwork/labs/Module%203/data/drug200.csv'\n",
    "my_data = pd.read_csv(path)\n",
    "my_data.head()"
   ],
   "id": "f2b524d72aa8504b",
   "outputs": [
    {
     "data": {
      "text/plain": [
       "   Age Sex      BP Cholesterol  Na_to_K   Drug\n",
       "0   23   F    HIGH        HIGH   25.355  drugY\n",
       "1   47   M     LOW        HIGH   13.093  drugC\n",
       "2   47   M     LOW        HIGH   10.114  drugC\n",
       "3   28   F  NORMAL        HIGH    7.798  drugX\n",
       "4   61   F     LOW        HIGH   18.043  drugY"
      ],
      "text/html": [
       "<div>\n",
       "<style scoped>\n",
       "    .dataframe tbody tr th:only-of-type {\n",
       "        vertical-align: middle;\n",
       "    }\n",
       "\n",
       "    .dataframe tbody tr th {\n",
       "        vertical-align: top;\n",
       "    }\n",
       "\n",
       "    .dataframe thead th {\n",
       "        text-align: right;\n",
       "    }\n",
       "</style>\n",
       "<table border=\"1\" class=\"dataframe\">\n",
       "  <thead>\n",
       "    <tr style=\"text-align: right;\">\n",
       "      <th></th>\n",
       "      <th>Age</th>\n",
       "      <th>Sex</th>\n",
       "      <th>BP</th>\n",
       "      <th>Cholesterol</th>\n",
       "      <th>Na_to_K</th>\n",
       "      <th>Drug</th>\n",
       "    </tr>\n",
       "  </thead>\n",
       "  <tbody>\n",
       "    <tr>\n",
       "      <th>0</th>\n",
       "      <td>23</td>\n",
       "      <td>F</td>\n",
       "      <td>HIGH</td>\n",
       "      <td>HIGH</td>\n",
       "      <td>25.355</td>\n",
       "      <td>drugY</td>\n",
       "    </tr>\n",
       "    <tr>\n",
       "      <th>1</th>\n",
       "      <td>47</td>\n",
       "      <td>M</td>\n",
       "      <td>LOW</td>\n",
       "      <td>HIGH</td>\n",
       "      <td>13.093</td>\n",
       "      <td>drugC</td>\n",
       "    </tr>\n",
       "    <tr>\n",
       "      <th>2</th>\n",
       "      <td>47</td>\n",
       "      <td>M</td>\n",
       "      <td>LOW</td>\n",
       "      <td>HIGH</td>\n",
       "      <td>10.114</td>\n",
       "      <td>drugC</td>\n",
       "    </tr>\n",
       "    <tr>\n",
       "      <th>3</th>\n",
       "      <td>28</td>\n",
       "      <td>F</td>\n",
       "      <td>NORMAL</td>\n",
       "      <td>HIGH</td>\n",
       "      <td>7.798</td>\n",
       "      <td>drugX</td>\n",
       "    </tr>\n",
       "    <tr>\n",
       "      <th>4</th>\n",
       "      <td>61</td>\n",
       "      <td>F</td>\n",
       "      <td>LOW</td>\n",
       "      <td>HIGH</td>\n",
       "      <td>18.043</td>\n",
       "      <td>drugY</td>\n",
       "    </tr>\n",
       "  </tbody>\n",
       "</table>\n",
       "</div>"
      ]
     },
     "execution_count": 2,
     "metadata": {},
     "output_type": "execute_result"
    }
   ],
   "execution_count": 2
  },
  {
   "metadata": {},
   "cell_type": "markdown",
   "source": "# Data Analysis and pre-processing",
   "id": "d9a2990895c0a38b"
  },
  {
   "metadata": {
    "ExecuteTime": {
     "end_time": "2025-05-18T19:35:23.571288Z",
     "start_time": "2025-05-18T19:35:23.566308Z"
    }
   },
   "cell_type": "code",
   "source": "my_data.info();",
   "id": "ac8f3693413d73d8",
   "outputs": [
    {
     "name": "stdout",
     "output_type": "stream",
     "text": [
      "<class 'pandas.core.frame.DataFrame'>\n",
      "RangeIndex: 200 entries, 0 to 199\n",
      "Data columns (total 6 columns):\n",
      " #   Column       Non-Null Count  Dtype  \n",
      "---  ------       --------------  -----  \n",
      " 0   Age          200 non-null    int64  \n",
      " 1   Sex          200 non-null    object \n",
      " 2   BP           200 non-null    object \n",
      " 3   Cholesterol  200 non-null    object \n",
      " 4   Na_to_K      200 non-null    float64\n",
      " 5   Drug         200 non-null    object \n",
      "dtypes: float64(1), int64(1), object(4)\n",
      "memory usage: 9.5+ KB\n"
     ]
    }
   ],
   "execution_count": 7
  },
  {
   "metadata": {},
   "cell_type": "markdown",
   "source": "### This tells us that 4 out of the 6 features of this dataset are categorical, which will have to be converted into numerical ones to be used for modeling. For this, we can make use of LabelEncoder from the Scikit-Learn library.",
   "id": "7ea6734c7a68d309"
  },
  {
   "metadata": {
    "ExecuteTime": {
     "end_time": "2025-05-18T19:40:31.390692Z",
     "start_time": "2025-05-18T19:40:31.377517Z"
    }
   },
   "cell_type": "code",
   "source": [
    "label_encoder = LabelEncoder()\n",
    "my_data[\"Sex\"] = label_encoder.fit_transform(my_data[\"Sex\"])\n",
    "# print(my_data.head())\n",
    "my_data[\"BP\"] = label_encoder.fit_transform(my_data[\"BP\"])\n",
    "my_data[\"Cholesterol\"] = label_encoder.fit_transform(my_data[\"Cholesterol\"])\n",
    "print(my_data.info())"
   ],
   "id": "ec07551d7ef504ce",
   "outputs": [
    {
     "name": "stdout",
     "output_type": "stream",
     "text": [
      "<class 'pandas.core.frame.DataFrame'>\n",
      "RangeIndex: 200 entries, 0 to 199\n",
      "Data columns (total 6 columns):\n",
      " #   Column       Non-Null Count  Dtype  \n",
      "---  ------       --------------  -----  \n",
      " 0   Age          200 non-null    int64  \n",
      " 1   Sex          200 non-null    int64  \n",
      " 2   BP           200 non-null    int64  \n",
      " 3   Cholesterol  200 non-null    int64  \n",
      " 4   Na_to_K      200 non-null    float64\n",
      " 5   Drug         200 non-null    object \n",
      "dtypes: float64(1), int64(4), object(1)\n",
      "memory usage: 9.5+ KB\n",
      "None\n"
     ]
    }
   ],
   "execution_count": 14
  },
  {
   "metadata": {},
   "cell_type": "markdown",
   "source": [
    "With this, you now have 5 parameters that can be used for modeling and 1 feature as the target variable. \n",
    "We can see from comparison of the data before Label encoding and after it, to note the following mapping.\n",
    "<br>\n",
    "For parameter 'Sex' : $M \\rightarrow 1, F \\rightarrow 0$ <br>\n",
    "For parameter 'BP' : $High \\rightarrow 0, Low \\rightarrow 1, Normal \\rightarrow 2$<br>\n",
    "For parameter 'Cholesterol' : $High \\rightarrow 0, Normal \\rightarrow 1$"
   ],
   "id": "449b5bd4f115da6c"
  },
  {
   "metadata": {},
   "cell_type": "markdown",
   "source": "### We need also check if there are any missing values in the dataset.",
   "id": "49929e484ab1f2d"
  },
  {
   "metadata": {
    "ExecuteTime": {
     "end_time": "2025-05-18T19:43:15.449037Z",
     "start_time": "2025-05-18T19:43:15.434378Z"
    }
   },
   "cell_type": "code",
   "source": [
    "# Check missing value\n",
    "my_data.isnull().sum()"
   ],
   "id": "b29dddf596b6c6c1",
   "outputs": [
    {
     "data": {
      "text/plain": [
       "Age            0\n",
       "Sex            0\n",
       "BP             0\n",
       "Cholesterol    0\n",
       "Na_to_K        0\n",
       "Drug           0\n",
       "dtype: int64"
      ]
     },
     "execution_count": 16,
     "metadata": {},
     "output_type": "execute_result"
    }
   ],
   "execution_count": 16
  },
  {
   "metadata": {
    "ExecuteTime": {
     "end_time": "2025-05-18T19:44:01.646191Z",
     "start_time": "2025-05-18T19:44:01.641185Z"
    }
   },
   "cell_type": "code",
   "source": "# There is no missing value in datasets",
   "id": "18be94764b66a551",
   "outputs": [],
   "execution_count": 18
  },
  {
   "metadata": {},
   "cell_type": "markdown",
   "source": "### To evaluate the correlation of the target variable with the input features, it will be convenient to map the different drugs to a numerical value. Execute the following cell to achieve the same",
   "id": "b6f25b486a0b8e81"
  },
  {
   "metadata": {
    "ExecuteTime": {
     "end_time": "2025-05-18T19:48:19.798104Z",
     "start_time": "2025-05-18T19:48:19.780229Z"
    }
   },
   "cell_type": "code",
   "source": [
    "custom_map = {\n",
    "    \"drugA\": 0,\n",
    "    \"drugB\": 1,\n",
    "    \"drugC\": 2,\n",
    "    \"drugX\": 3,\n",
    "    \"drugY\": 4\n",
    "}\n",
    "my_data[\"drug_num\"] = my_data[\"Drug\"].map(custom_map)\n",
    "my_data"
   ],
   "id": "3bea1fed53c83d25",
   "outputs": [
    {
     "data": {
      "text/plain": [
       "     Age  Sex  BP  Cholesterol  Na_to_K   Drug  drug_num\n",
       "0     23    0   0            0   25.355  drugY         4\n",
       "1     47    1   1            0   13.093  drugC         2\n",
       "2     47    1   1            0   10.114  drugC         2\n",
       "3     28    0   2            0    7.798  drugX         3\n",
       "4     61    0   1            0   18.043  drugY         4\n",
       "..   ...  ...  ..          ...      ...    ...       ...\n",
       "195   56    0   1            0   11.567  drugC         2\n",
       "196   16    1   1            0   12.006  drugC         2\n",
       "197   52    1   2            0    9.894  drugX         3\n",
       "198   23    1   2            1   14.020  drugX         3\n",
       "199   40    0   1            1   11.349  drugX         3\n",
       "\n",
       "[200 rows x 7 columns]"
      ],
      "text/html": [
       "<div>\n",
       "<style scoped>\n",
       "    .dataframe tbody tr th:only-of-type {\n",
       "        vertical-align: middle;\n",
       "    }\n",
       "\n",
       "    .dataframe tbody tr th {\n",
       "        vertical-align: top;\n",
       "    }\n",
       "\n",
       "    .dataframe thead th {\n",
       "        text-align: right;\n",
       "    }\n",
       "</style>\n",
       "<table border=\"1\" class=\"dataframe\">\n",
       "  <thead>\n",
       "    <tr style=\"text-align: right;\">\n",
       "      <th></th>\n",
       "      <th>Age</th>\n",
       "      <th>Sex</th>\n",
       "      <th>BP</th>\n",
       "      <th>Cholesterol</th>\n",
       "      <th>Na_to_K</th>\n",
       "      <th>Drug</th>\n",
       "      <th>drug_num</th>\n",
       "    </tr>\n",
       "  </thead>\n",
       "  <tbody>\n",
       "    <tr>\n",
       "      <th>0</th>\n",
       "      <td>23</td>\n",
       "      <td>0</td>\n",
       "      <td>0</td>\n",
       "      <td>0</td>\n",
       "      <td>25.355</td>\n",
       "      <td>drugY</td>\n",
       "      <td>4</td>\n",
       "    </tr>\n",
       "    <tr>\n",
       "      <th>1</th>\n",
       "      <td>47</td>\n",
       "      <td>1</td>\n",
       "      <td>1</td>\n",
       "      <td>0</td>\n",
       "      <td>13.093</td>\n",
       "      <td>drugC</td>\n",
       "      <td>2</td>\n",
       "    </tr>\n",
       "    <tr>\n",
       "      <th>2</th>\n",
       "      <td>47</td>\n",
       "      <td>1</td>\n",
       "      <td>1</td>\n",
       "      <td>0</td>\n",
       "      <td>10.114</td>\n",
       "      <td>drugC</td>\n",
       "      <td>2</td>\n",
       "    </tr>\n",
       "    <tr>\n",
       "      <th>3</th>\n",
       "      <td>28</td>\n",
       "      <td>0</td>\n",
       "      <td>2</td>\n",
       "      <td>0</td>\n",
       "      <td>7.798</td>\n",
       "      <td>drugX</td>\n",
       "      <td>3</td>\n",
       "    </tr>\n",
       "    <tr>\n",
       "      <th>4</th>\n",
       "      <td>61</td>\n",
       "      <td>0</td>\n",
       "      <td>1</td>\n",
       "      <td>0</td>\n",
       "      <td>18.043</td>\n",
       "      <td>drugY</td>\n",
       "      <td>4</td>\n",
       "    </tr>\n",
       "    <tr>\n",
       "      <th>...</th>\n",
       "      <td>...</td>\n",
       "      <td>...</td>\n",
       "      <td>...</td>\n",
       "      <td>...</td>\n",
       "      <td>...</td>\n",
       "      <td>...</td>\n",
       "      <td>...</td>\n",
       "    </tr>\n",
       "    <tr>\n",
       "      <th>195</th>\n",
       "      <td>56</td>\n",
       "      <td>0</td>\n",
       "      <td>1</td>\n",
       "      <td>0</td>\n",
       "      <td>11.567</td>\n",
       "      <td>drugC</td>\n",
       "      <td>2</td>\n",
       "    </tr>\n",
       "    <tr>\n",
       "      <th>196</th>\n",
       "      <td>16</td>\n",
       "      <td>1</td>\n",
       "      <td>1</td>\n",
       "      <td>0</td>\n",
       "      <td>12.006</td>\n",
       "      <td>drugC</td>\n",
       "      <td>2</td>\n",
       "    </tr>\n",
       "    <tr>\n",
       "      <th>197</th>\n",
       "      <td>52</td>\n",
       "      <td>1</td>\n",
       "      <td>2</td>\n",
       "      <td>0</td>\n",
       "      <td>9.894</td>\n",
       "      <td>drugX</td>\n",
       "      <td>3</td>\n",
       "    </tr>\n",
       "    <tr>\n",
       "      <th>198</th>\n",
       "      <td>23</td>\n",
       "      <td>1</td>\n",
       "      <td>2</td>\n",
       "      <td>1</td>\n",
       "      <td>14.020</td>\n",
       "      <td>drugX</td>\n",
       "      <td>3</td>\n",
       "    </tr>\n",
       "    <tr>\n",
       "      <th>199</th>\n",
       "      <td>40</td>\n",
       "      <td>0</td>\n",
       "      <td>1</td>\n",
       "      <td>1</td>\n",
       "      <td>11.349</td>\n",
       "      <td>drugX</td>\n",
       "      <td>3</td>\n",
       "    </tr>\n",
       "  </tbody>\n",
       "</table>\n",
       "<p>200 rows × 7 columns</p>\n",
       "</div>"
      ]
     },
     "execution_count": 20,
     "metadata": {},
     "output_type": "execute_result"
    }
   ],
   "execution_count": 20
  },
  {
   "metadata": {
    "ExecuteTime": {
     "end_time": "2025-05-18T19:48:49.373632Z",
     "start_time": "2025-05-18T19:48:49.368441Z"
    }
   },
   "cell_type": "code",
   "source": "# We can now use the corr() function to find the correlation of the input variables with the target variable.",
   "id": "8625b9062dbc3190",
   "outputs": [],
   "execution_count": 21
  },
  {
   "metadata": {},
   "cell_type": "markdown",
   "source": [
    "# Practice question\n",
    "\n",
    "- Write the code to find the correlation of the input variables with the target variable and identify the features most significantly affecting the target."
   ],
   "id": "528796dcfbcd159a"
  },
  {
   "metadata": {
    "ExecuteTime": {
     "end_time": "2025-05-18T19:58:12.345072Z",
     "start_time": "2025-05-18T19:58:12.327728Z"
    }
   },
   "cell_type": "code",
   "source": "my_data.drop('Drug',axis=1).corr()['drug_num']",
   "id": "51fe5321da57fa4e",
   "outputs": [
    {
     "data": {
      "text/plain": [
       "Age           -0.004828\n",
       "Sex           -0.098573\n",
       "BP             0.372868\n",
       "Cholesterol    0.055629\n",
       "Na_to_K        0.589120\n",
       "drug_num       1.000000\n",
       "Name: drug_num, dtype: float64"
      ]
     },
     "execution_count": 24,
     "metadata": {},
     "output_type": "execute_result"
    }
   ],
   "execution_count": 24
  }
 ],
 "metadata": {
  "kernelspec": {
   "display_name": "Python 3",
   "language": "python",
   "name": "python3"
  },
  "language_info": {
   "codemirror_mode": {
    "name": "ipython",
    "version": 2
   },
   "file_extension": ".py",
   "mimetype": "text/x-python",
   "name": "python",
   "nbconvert_exporter": "python",
   "pygments_lexer": "ipython2",
   "version": "2.7.6"
  }
 },
 "nbformat": 4,
 "nbformat_minor": 5
}
