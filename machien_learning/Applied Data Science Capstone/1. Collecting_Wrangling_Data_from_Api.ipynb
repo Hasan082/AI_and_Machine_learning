{
 "cells": [
  {
   "metadata": {},
   "cell_type": "markdown",
   "source": "# Collecting Wrangling Data from SpaceX Api",
   "id": "78da78057dbd5282"
  },
  {
   "metadata": {},
   "cell_type": "markdown",
   "source": [
    "### Description\n",
    "\n",
    "<p>In this capstone, we will predict if the Falcon 9 first stage will land successfully. SpaceX advertises Falcon 9 rocket launches on its website with a cost of 62 million dollars; other providers cost upward of 165 million dollars each, much of the savings is because SpaceX can reuse the first stage. Therefore if we can determine if the first stage will land, we can determine the cost of a launch. This information can be used if an alternate company wants to bid against SpaceX for a rocket launch. In this lab, you will collect and make sure the data is in the correct format from an API. The following is an example of a successful and launch.\n",
    "</p>\n"
   ],
   "id": "ccfac9d13f2acb57"
  },
  {
   "metadata": {},
   "cell_type": "markdown",
   "source": [
    "## Goal / Objectives\n",
    "\n",
    "### Objective\n",
    "Reduce the cost of a launch by determining whether SpaceX can reuse the first stage of its rockets.\n",
    "\n",
    "### Tasks\n",
    "- Perform basic data wrangling and formatting.\n",
    "- Retrieve data from the SpaceX API.\n",
    "- Clean and preprocess the requested data."
   ],
   "id": "59813d0f805de498"
  },
  {
   "metadata": {},
   "cell_type": "code",
   "outputs": [],
   "execution_count": null,
   "source": "",
   "id": "1acffac624fa5ebf"
  }
 ],
 "metadata": {
  "kernelspec": {
   "display_name": "Python 3",
   "language": "python",
   "name": "python3"
  },
  "language_info": {
   "codemirror_mode": {
    "name": "ipython",
    "version": 2
   },
   "file_extension": ".py",
   "mimetype": "text/x-python",
   "name": "python",
   "nbconvert_exporter": "python",
   "pygments_lexer": "ipython2",
   "version": "2.7.6"
  }
 },
 "nbformat": 4,
 "nbformat_minor": 5
}
