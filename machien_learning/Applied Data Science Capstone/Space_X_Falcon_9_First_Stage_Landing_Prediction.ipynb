{
 "cells": [
  {
   "cell_type": "markdown",
   "id": "81b93635",
   "metadata": {},
   "source": [
    "# Space X Falcon 9 First Stage Landing Prediction"
   ]
  },
  {
   "cell_type": "markdown",
   "id": "c52a73b0",
   "metadata": {},
   "source": [
    "## Objectives\n",
    "- Perform exploratory Data Analysis and determine Training Labels\n",
    "\n",
    "### create a column for the class\n",
    "### Standardize the data\n",
    "### Split into training data and test data\n",
    "- Find best Hyperparameter for SVM, Classification Trees and Logistic Regression\n",
    "\n",
    "### Find the method performs best using test data"
   ]
  },
  {
   "cell_type": "code",
   "execution_count": null,
   "id": "ef0c306d",
   "metadata": {},
   "outputs": [],
   "source": []
  }
 ],
 "metadata": {
  "kernelspec": {
   "display_name": "venv",
   "language": "python",
   "name": "python3"
  },
  "language_info": {
   "codemirror_mode": {
    "name": "ipython",
    "version": 3
   },
   "file_extension": ".py",
   "mimetype": "text/x-python",
   "name": "python",
   "nbconvert_exporter": "python",
   "pygments_lexer": "ipython3",
   "version": "3.13.2"
  }
 },
 "nbformat": 4,
 "nbformat_minor": 5
}
