{
 "cells": [
  {
   "metadata": {},
   "cell_type": "markdown",
   "source": "# We can see how reshape make 2d Array",
   "id": "3b08a09a35ed0f42"
  },
  {
   "metadata": {
    "ExecuteTime": {
     "end_time": "2025-05-14T08:17:18.736796Z",
     "start_time": "2025-05-14T08:17:18.723508Z"
    }
   },
   "cell_type": "code",
   "source": [
    "import numpy as np\n",
    "import matplotlib.pyplot as plt\n",
    "from sklearn.linear_model import LinearRegression\n",
    "\n",
    "# Sample data\n",
    "X_train = np.array([1, 2, 3, 4, 5, 6])\n",
    "y_train = np.array([3, 4, 2, 5, 6, 7])\n",
    "\n",
    "# Reshape X for sklearn\n",
    "X_train_reshaped = X_train.reshape(-1, 1)\n",
    "print(X_train_reshaped)\n",
    "# Train model\n",
    "# model = LinearRegression()\n",
    "# model.fit(X_train_reshaped, y_train)\n",
    "# \n",
    "# # Predict values (for line)\n",
    "# y_pred = model.predict(X_train_reshaped)\n",
    "# \n",
    "# # Plot\n",
    "# plt.scatter(X_train, y_train, color='blue', label='Training Data')\n",
    "# plt.plot(X_train, y_pred, color='red', linewidth=2, label='Regression Line')\n",
    "# plt.xlabel(\"X (Feature)\")\n",
    "# plt.ylabel(\"y (Target)\")\n",
    "# plt.title(\"Simple Linear Regression\")\n",
    "# plt.legend()\n",
    "# plt.grid(True)\n",
    "# plt.show()"
   ],
   "id": "deedee4b63df0493",
   "outputs": [
    {
     "name": "stdout",
     "output_type": "stream",
     "text": [
      "[[1]\n",
      " [2]\n",
      " [3]\n",
      " [4]\n",
      " [5]\n",
      " [6]]\n"
     ]
    }
   ],
   "execution_count": 2
  }
 ],
 "metadata": {
  "kernelspec": {
   "display_name": "Python 3",
   "language": "python",
   "name": "python3"
  },
  "language_info": {
   "codemirror_mode": {
    "name": "ipython",
    "version": 2
   },
   "file_extension": ".py",
   "mimetype": "text/x-python",
   "name": "python",
   "nbconvert_exporter": "python",
   "pygments_lexer": "ipython2",
   "version": "2.7.6"
  }
 },
 "nbformat": 4,
 "nbformat_minor": 5
}
