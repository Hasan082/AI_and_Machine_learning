{
 "cells": [
  {
   "cell_type": "markdown",
   "id": "4fcbb1c4",
   "metadata": {},
   "source": [
    "# Building a Decision Tree to Predict Customer Churn"
   ]
  },
  {
   "cell_type": "markdown",
   "id": "42093362",
   "metadata": {},
   "source": [
    "<p>\n",
    "Imagine you are a data analyst at a telecom company. The marketing department has noticed an increase in customer churn and needs your help to identify which customers are most likely to leave next month.\n",
    "</p>"
   ]
  },
  {
   "cell_type": "markdown",
   "id": "9658c51f",
   "metadata": {},
   "source": [
    "<p><b>My Tasks</b> <br>\n",
    "In this exercise, you will build a decision tree model to predict customer churn for a telecom company. Customer churn refers to when a customer stops doing business with a company. Predicting churn is crucial for businesses to retain customers by addressing their issues proactively.</p>"
   ]
  },
  {
   "cell_type": "markdown",
   "id": "1b395ffc",
   "metadata": {},
   "source": [
    "## PROJECT STEP\n",
    "<p>\n",
    "Dataset Description <br>\n",
    "We will use a synthetic dataset for this exercise. The dataset contains the following columns:</p>\n",
    "\n",
    "- CustomerID: A unique identifier for each customer.\n",
    "- Age: The age of the customer.\n",
    "- MonthlyCharge: The monthly bill amount for the customer.\n",
    "- CustomerServiceCalls: The number of times the customer contacted customer service.\n",
    "- Churn: This is our target variable, indicating whether the customer churned (Yes) or not (No).\n",
    "\n",
    "### Step-by-Step Instructions\n",
    "<p>\n",
    "Setup the Environment: <br>\n",
    "Import necessary libraries: Pandas for data manipulation, Scikit-learn for machine learning, and Matplotlib for visualization. <br>\n",
    "Create the Dataset:<br>\n",
    "Use Python to create a synthetic dataset. We'll make a small dataset for simplicity. <br>\n",
    "Data Preparation:<br>\n",
    "Split the data into features (X) and the target variable (y).<br>\n",
    "Further split the dataset into training and testing sets.<br>\n",
    "Build the Decision Tree Model:<br>\n",
    "Use Scikit-learn to create a DecisionTreeClassifier.<br>\n",
    "Train the model on the training data.<br>\n",
    "Evaluate the Model:<br>\n",
    "Make predictions on the test set.<br>\n",
    "Calculate the accuracy of the model.<br>\n",
    "Visualize the Decision Tree:<br>\n",
    "Use Matplotlib to visualize how the decision tree makes decisions.<br>\n",
    "Discuss the Results:<br>\n",
    "Interpret the decision tree.<br>\n",
    "Discuss how it can be used by the company to reduce customer churn.</p>"
   ]
  },
  {
   "cell_type": "code",
   "execution_count": 2,
   "id": "48f5d317",
   "metadata": {},
   "outputs": [],
   "source": [
    "# Import necessary libraries\n",
    "import pandas as pd\n",
    "import matplotlib.pyplot as plt\n",
    "import warnings\n",
    "from sklearn.model_selection import train_test_split\n",
    "from sklearn.tree import DecisionTreeClassifier\n",
    "from sklearn.metrics import accuracy_score\n",
    "from sklearn import tree\n",
    "warnings.filterwarnings('ignore')"
   ]
  },
  {
   "cell_type": "code",
   "execution_count": 3,
   "id": "d49b40a3",
   "metadata": {},
   "outputs": [],
   "source": [
    "# Creating a synthetic dataset\n",
    "# This dataset simulates customer data for a telecom company\n",
    "data = {\n",
    "    'CustomerID': range(1, 101),\n",
    "    'Age': [25, 34, 45, 23, 36, 50, 29, 40, 31, 28] * 10,\n",
    "    'MonthlyCharge': [50, 60, 70, 80, 90, 100, 110, 120, 130, 140]*10,\n",
    "    'CustomerServiceCalls': [1, 2, 3, 4, 0, 1, 2, 3, 4, 0]*10,  # Number of customer service calls\n",
    "    'Churn': ['No', 'No', 'Yes', 'No', 'Yes', 'No', 'Yes', 'Yes', 'No', 'Yes']*10  # Churn status\n",
    "}"
   ]
  },
  {
   "cell_type": "code",
   "execution_count": 4,
   "id": "921de6ab",
   "metadata": {},
   "outputs": [
    {
     "data": {
      "text/html": [
       "<div>\n",
       "<style scoped>\n",
       "    .dataframe tbody tr th:only-of-type {\n",
       "        vertical-align: middle;\n",
       "    }\n",
       "\n",
       "    .dataframe tbody tr th {\n",
       "        vertical-align: top;\n",
       "    }\n",
       "\n",
       "    .dataframe thead th {\n",
       "        text-align: right;\n",
       "    }\n",
       "</style>\n",
       "<table border=\"1\" class=\"dataframe\">\n",
       "  <thead>\n",
       "    <tr style=\"text-align: right;\">\n",
       "      <th></th>\n",
       "      <th>CustomerID</th>\n",
       "      <th>Age</th>\n",
       "      <th>MonthlyCharge</th>\n",
       "      <th>CustomerServiceCalls</th>\n",
       "      <th>Churn</th>\n",
       "    </tr>\n",
       "  </thead>\n",
       "  <tbody>\n",
       "    <tr>\n",
       "      <th>0</th>\n",
       "      <td>1</td>\n",
       "      <td>25</td>\n",
       "      <td>50</td>\n",
       "      <td>1</td>\n",
       "      <td>No</td>\n",
       "    </tr>\n",
       "    <tr>\n",
       "      <th>1</th>\n",
       "      <td>2</td>\n",
       "      <td>34</td>\n",
       "      <td>60</td>\n",
       "      <td>2</td>\n",
       "      <td>No</td>\n",
       "    </tr>\n",
       "    <tr>\n",
       "      <th>2</th>\n",
       "      <td>3</td>\n",
       "      <td>45</td>\n",
       "      <td>70</td>\n",
       "      <td>3</td>\n",
       "      <td>Yes</td>\n",
       "    </tr>\n",
       "    <tr>\n",
       "      <th>3</th>\n",
       "      <td>4</td>\n",
       "      <td>23</td>\n",
       "      <td>80</td>\n",
       "      <td>4</td>\n",
       "      <td>No</td>\n",
       "    </tr>\n",
       "    <tr>\n",
       "      <th>4</th>\n",
       "      <td>5</td>\n",
       "      <td>36</td>\n",
       "      <td>90</td>\n",
       "      <td>0</td>\n",
       "      <td>Yes</td>\n",
       "    </tr>\n",
       "  </tbody>\n",
       "</table>\n",
       "</div>"
      ],
      "text/plain": [
       "   CustomerID  Age  MonthlyCharge  CustomerServiceCalls Churn\n",
       "0           1   25             50                     1    No\n",
       "1           2   34             60                     2    No\n",
       "2           3   45             70                     3   Yes\n",
       "3           4   23             80                     4    No\n",
       "4           5   36             90                     0   Yes"
      ]
     },
     "execution_count": 4,
     "metadata": {},
     "output_type": "execute_result"
    }
   ],
   "source": [
    "df = pd.DataFrame(data)\n",
    "df.head()"
   ]
  },
  {
   "cell_type": "code",
   "execution_count": null,
   "id": "0d35cd8c",
   "metadata": {},
   "outputs": [],
   "source": [
    "# Splitting the dataset into features and target variable\n",
    "# Features include age, monthly charge, and customer service calls\n",
    "# The target variable is churn (Yes or No)\n",
    "X = df.drop('Churn', axis=1)\n",
    "y = df['Churn']\n"
   ]
  }
 ],
 "metadata": {
  "kernelspec": {
   "display_name": "myenv",
   "language": "python",
   "name": "python3"
  },
  "language_info": {
   "codemirror_mode": {
    "name": "ipython",
    "version": 3
   },
   "file_extension": ".py",
   "mimetype": "text/x-python",
   "name": "python",
   "nbconvert_exporter": "python",
   "pygments_lexer": "ipython3",
   "version": "3.12.3"
  }
 },
 "nbformat": 4,
 "nbformat_minor": 5
}
