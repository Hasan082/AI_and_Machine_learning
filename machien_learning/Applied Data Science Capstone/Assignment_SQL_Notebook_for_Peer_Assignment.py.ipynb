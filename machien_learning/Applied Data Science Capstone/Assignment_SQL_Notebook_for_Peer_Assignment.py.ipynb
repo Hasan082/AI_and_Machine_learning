{
 "cells": [
  {
   "metadata": {},
   "cell_type": "markdown",
   "source": "# Assignment: SQL Notebook for Peer Assignment",
   "id": "d75491fb9e8ccc86"
  },
  {
   "metadata": {
    "ExecuteTime": {
     "end_time": "2025-05-30T18:30:31.315273Z",
     "start_time": "2025-05-30T18:30:31.312718Z"
    }
   },
   "cell_type": "code",
   "source": [
    "# Overview of the DataSet\n",
    "# SpaceX has gained worldwide attention for a series of historic milestones.\n",
    "# \n",
    "# It is the only private company ever to return a spacecraft from low-earth orbit, which it first accomplished in December 2010. SpaceX advertises Falcon 9 rocket launches on its website with a cost of 62 million dollars wheras other providers cost upward of 165 million dollars each, much of the savings is because Space X can reuse the first stage.\n",
    "# \n",
    "# Therefore if we can determine if the first stage will land, we can determine the cost of a launch.\n",
    "# \n",
    "# This information can be used if an alternate company wants to bid against SpaceX for a rocket launch.\n",
    "# \n",
    "# This dataset includes a record for each payload carried during a SpaceX mission into outer space."
   ],
   "id": "2fdff20f317880d1",
   "outputs": [],
   "execution_count": 1
  },
  {
   "metadata": {},
   "cell_type": "code",
   "outputs": [],
   "execution_count": null,
   "source": "",
   "id": "ea1422e6baf92a62"
  }
 ],
 "metadata": {
  "kernelspec": {
   "display_name": "Python 3",
   "language": "python",
   "name": "python3"
  },
  "language_info": {
   "codemirror_mode": {
    "name": "ipython",
    "version": 2
   },
   "file_extension": ".py",
   "mimetype": "text/x-python",
   "name": "python",
   "nbconvert_exporter": "python",
   "pygments_lexer": "ipython2",
   "version": "2.7.6"
  }
 },
 "nbformat": 4,
 "nbformat_minor": 5
}
