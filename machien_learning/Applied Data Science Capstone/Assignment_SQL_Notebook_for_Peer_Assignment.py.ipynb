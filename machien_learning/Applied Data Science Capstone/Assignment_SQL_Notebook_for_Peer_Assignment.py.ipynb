{
 "cells": [
  {
   "metadata": {},
   "cell_type": "markdown",
   "source": "# Assignment: SQL Notebook for Peer Assignment",
   "id": "d75491fb9e8ccc86"
  },
  {
   "metadata": {
    "ExecuteTime": {
     "end_time": "2025-05-30T19:51:59.108827Z",
     "start_time": "2025-05-30T19:51:59.106429Z"
    }
   },
   "cell_type": "code",
   "source": [
    "# Overview of the DataSet\n",
    "# SpaceX has gained worldwide attention for a series of historic milestones.\n",
    "# \n",
    "# It is the only private company ever to return a spacecraft from low-earth orbit, which it first accomplished in December 2010. SpaceX advertises Falcon 9 rocket launches on its website with a cost of 62 million dollars wheras other providers cost upward of 165 million dollars each, much of the savings is because Space X can reuse the first stage.\n",
    "# \n",
    "# Therefore if we can determine if the first stage will land, we can determine the cost of a launch.\n",
    "# \n",
    "# This information can be used if an alternate company wants to bid against SpaceX for a rocket launch.\n",
    "# \n",
    "# This dataset includes a record for each payload carried during a SpaceX mission into outer space."
   ],
   "id": "2fdff20f317880d1",
   "outputs": [],
   "execution_count": 2
  },
  {
   "metadata": {
    "ExecuteTime": {
     "end_time": "2025-05-30T19:51:59.752056Z",
     "start_time": "2025-05-30T19:51:59.156772Z"
    }
   },
   "cell_type": "code",
   "source": [
    "# First load the SQL extension and establish a connection with the database\n",
    "%load_ext sql"
   ],
   "id": "ea1422e6baf92a62",
   "outputs": [],
   "execution_count": 3
  },
  {
   "metadata": {
    "ExecuteTime": {
     "end_time": "2025-05-30T19:51:59.755370Z",
     "start_time": "2025-05-30T19:51:59.752860Z"
    }
   },
   "cell_type": "code",
   "source": [
    "# Import required library\n",
    "import csv, sqlite3\n",
    "import prettytable\n",
    "import pandas as pd\n",
    "prettytable.DEFAULT = 'DEFAULT'"
   ],
   "id": "69de357abf122700",
   "outputs": [],
   "execution_count": 4
  },
  {
   "metadata": {},
   "cell_type": "markdown",
   "source": "## Create if not exist or connect the Database",
   "id": "f552e0055f6659a3"
  },
  {
   "metadata": {
    "ExecuteTime": {
     "end_time": "2025-05-30T19:51:59.758283Z",
     "start_time": "2025-05-30T19:51:59.755886Z"
    }
   },
   "cell_type": "code",
   "source": [
    "con = sqlite3.connect(\"my_data1.db\")\n",
    "cur = con.cursor()"
   ],
   "id": "244821e45ad16eae",
   "outputs": [],
   "execution_count": 5
  },
  {
   "metadata": {},
   "cell_type": "markdown",
   "source": "## Connect your Jupyter Notebook to a SQLite database",
   "id": "2db8b5da5a9dceaa"
  },
  {
   "metadata": {
    "ExecuteTime": {
     "end_time": "2025-05-30T19:51:59.767371Z",
     "start_time": "2025-05-30T19:51:59.759571Z"
    }
   },
   "cell_type": "code",
   "source": "%sql sqlite:///my_data1.db",
   "id": "d2f82c82e71819e5",
   "outputs": [],
   "execution_count": 6
  },
  {
   "metadata": {},
   "cell_type": "markdown",
   "source": "## Create a data from a csv file loading from online",
   "id": "1d955a038e1c0aad"
  },
  {
   "metadata": {
    "ExecuteTime": {
     "end_time": "2025-05-30T19:52:01.874792Z",
     "start_time": "2025-05-30T19:51:59.767864Z"
    }
   },
   "cell_type": "code",
   "source": "df = pd.read_csv(\"https://cf-courses-data.s3.us.cloud-object-storage.appdomain.cloud/IBM-DS0321EN-SkillsNetwork/labs/module_2/data/Spacex.csv\")",
   "id": "3474c4b9ec42b0b5",
   "outputs": [],
   "execution_count": 7
  },
  {
   "metadata": {},
   "cell_type": "markdown",
   "source": "## Send to Data from csv to our database ",
   "id": "691ed04f635868f0"
  },
  {
   "metadata": {
    "ExecuteTime": {
     "end_time": "2025-05-30T19:52:01.887866Z",
     "start_time": "2025-05-30T19:52:01.876139Z"
    }
   },
   "cell_type": "code",
   "source": "df.to_sql(\"SPACEXTBL\", con, if_exists='replace', index=False,method=\"multi\")",
   "id": "a5cd73e457ca9ad4",
   "outputs": [
    {
     "data": {
      "text/plain": [
       "101"
      ]
     },
     "execution_count": 8,
     "metadata": {},
     "output_type": "execute_result"
    }
   ],
   "execution_count": 8
  },
  {
   "metadata": {
    "ExecuteTime": {
     "end_time": "2025-05-30T19:52:01.896667Z",
     "start_time": "2025-05-30T19:52:01.888706Z"
    }
   },
   "cell_type": "code",
   "source": [
    "#DROP THE TABLE IF EXISTS\n",
    "\n",
    "%sql DROP TABLE IF EXISTS SPACEXTABLE;"
   ],
   "id": "a9923a26b358d5e7",
   "outputs": [
    {
     "name": "stdout",
     "output_type": "stream",
     "text": [
      " * sqlite:///my_data1.db\n",
      "Done.\n"
     ]
    },
    {
     "data": {
      "text/plain": [
       "[]"
      ]
     },
     "execution_count": 9,
     "metadata": {},
     "output_type": "execute_result"
    }
   ],
   "execution_count": 9
  },
  {
   "metadata": {
    "ExecuteTime": {
     "end_time": "2025-05-30T19:52:01.902144Z",
     "start_time": "2025-05-30T19:52:01.897930Z"
    }
   },
   "cell_type": "code",
   "source": "%sql create table SPACEXTABLE as select * from SPACEXTBL where Date is not null",
   "id": "6a1284d7bec366c1",
   "outputs": [
    {
     "name": "stdout",
     "output_type": "stream",
     "text": [
      " * sqlite:///my_data1.db\n",
      "Done.\n"
     ]
    },
    {
     "data": {
      "text/plain": [
       "[]"
      ]
     },
     "execution_count": 10,
     "metadata": {},
     "output_type": "execute_result"
    }
   ],
   "execution_count": 10
  },
  {
   "metadata": {},
   "cell_type": "markdown",
   "source": [
    "# Tasks\n",
    "Now write and execute SQL queries to solve the assignment tasks.\n",
    "\n",
    "Note: If the column names are in mixed case enclose it in double quotes For Example \"Landing_Outcome\""
   ],
   "id": "e62a693cd4c43fa9"
  },
  {
   "metadata": {},
   "cell_type": "markdown",
   "source": [
    "# Task 1\n",
    "- Display the names of the unique launch sites in the space mission"
   ],
   "id": "38ac83189dbe2fbc"
  },
  {
   "metadata": {
    "ExecuteTime": {
     "end_time": "2025-05-30T19:52:01.906875Z",
     "start_time": "2025-05-30T19:52:01.902705Z"
    }
   },
   "cell_type": "code",
   "source": "%sql SELECT DISTINCT Launch_Site from SPACEXTABLE;",
   "id": "7cb7ca75104d1078",
   "outputs": [
    {
     "name": "stdout",
     "output_type": "stream",
     "text": [
      " * sqlite:///my_data1.db\n",
      "Done.\n"
     ]
    },
    {
     "data": {
      "text/plain": [
       "[('CCAFS LC-40',), ('VAFB SLC-4E',), ('KSC LC-39A',), ('CCAFS SLC-40',)]"
      ],
      "text/html": [
       "<table>\n",
       "    <thead>\n",
       "        <tr>\n",
       "            <th>Launch_Site</th>\n",
       "        </tr>\n",
       "    </thead>\n",
       "    <tbody>\n",
       "        <tr>\n",
       "            <td>CCAFS LC-40</td>\n",
       "        </tr>\n",
       "        <tr>\n",
       "            <td>VAFB SLC-4E</td>\n",
       "        </tr>\n",
       "        <tr>\n",
       "            <td>KSC LC-39A</td>\n",
       "        </tr>\n",
       "        <tr>\n",
       "            <td>CCAFS SLC-40</td>\n",
       "        </tr>\n",
       "    </tbody>\n",
       "</table>"
      ]
     },
     "execution_count": 11,
     "metadata": {},
     "output_type": "execute_result"
    }
   ],
   "execution_count": 11
  },
  {
   "metadata": {},
   "cell_type": "markdown",
   "source": [
    "# Task 2\n",
    "- Display 5 records where launch sites begin with the string 'CCA'"
   ],
   "id": "fd07b1555a1b10e5"
  },
  {
   "metadata": {
    "ExecuteTime": {
     "end_time": "2025-05-30T19:52:01.912637Z",
     "start_time": "2025-05-30T19:52:01.909047Z"
    }
   },
   "cell_type": "code",
   "source": "%sql SELECT DISTINCT Launch_Site from SPACEXTABLE WHERE Launch_Site LIKE '%CCA%';",
   "id": "a32387cc13456bb4",
   "outputs": [
    {
     "name": "stdout",
     "output_type": "stream",
     "text": [
      " * sqlite:///my_data1.db\n",
      "Done.\n"
     ]
    },
    {
     "data": {
      "text/plain": [
       "[('CCAFS LC-40',), ('CCAFS SLC-40',)]"
      ],
      "text/html": [
       "<table>\n",
       "    <thead>\n",
       "        <tr>\n",
       "            <th>Launch_Site</th>\n",
       "        </tr>\n",
       "    </thead>\n",
       "    <tbody>\n",
       "        <tr>\n",
       "            <td>CCAFS LC-40</td>\n",
       "        </tr>\n",
       "        <tr>\n",
       "            <td>CCAFS SLC-40</td>\n",
       "        </tr>\n",
       "    </tbody>\n",
       "</table>"
      ]
     },
     "execution_count": 12,
     "metadata": {},
     "output_type": "execute_result"
    }
   ],
   "execution_count": 12
  },
  {
   "metadata": {},
   "cell_type": "markdown",
   "source": [
    "# Task 3\n",
    "- Display the total payload mass carried by boosters launched by NASA (CRS)"
   ],
   "id": "b4d71d55a90f37ae"
  },
  {
   "metadata": {
    "ExecuteTime": {
     "end_time": "2025-05-30T19:52:01.916805Z",
     "start_time": "2025-05-30T19:52:01.913202Z"
    }
   },
   "cell_type": "code",
   "source": "%sql SELECT SUM(\"PAYLOAD_MASS__KG_\") AS Total_payload_by_nasa FROM SPACEXTABLE WHERE Customer = 'NASA (CRS)';",
   "id": "4873b26cfc45a382",
   "outputs": [
    {
     "name": "stdout",
     "output_type": "stream",
     "text": [
      " * sqlite:///my_data1.db\n",
      "Done.\n"
     ]
    },
    {
     "data": {
      "text/plain": [
       "[(45596,)]"
      ],
      "text/html": [
       "<table>\n",
       "    <thead>\n",
       "        <tr>\n",
       "            <th>Total_payload_by_nasa</th>\n",
       "        </tr>\n",
       "    </thead>\n",
       "    <tbody>\n",
       "        <tr>\n",
       "            <td>45596</td>\n",
       "        </tr>\n",
       "    </tbody>\n",
       "</table>"
      ]
     },
     "execution_count": 13,
     "metadata": {},
     "output_type": "execute_result"
    }
   ],
   "execution_count": 13
  },
  {
   "metadata": {},
   "cell_type": "markdown",
   "source": [
    "# Task 4\n",
    "- Display average payload mass carried by booster version F9 v1.1"
   ],
   "id": "cdb921a4eb4dbcce"
  },
  {
   "metadata": {
    "ExecuteTime": {
     "end_time": "2025-05-30T19:52:01.920090Z",
     "start_time": "2025-05-30T19:52:01.917259Z"
    }
   },
   "cell_type": "code",
   "source": "%sql SELECT AVG(\"PAYLOAD_MASS__KG_\") from SPACEXTABLE WHERE Booster_Version = 'F9 v1.1'",
   "id": "e224364edb1b31cb",
   "outputs": [
    {
     "name": "stdout",
     "output_type": "stream",
     "text": [
      " * sqlite:///my_data1.db\n",
      "Done.\n"
     ]
    },
    {
     "data": {
      "text/plain": [
       "[(2928.4,)]"
      ],
      "text/html": [
       "<table>\n",
       "    <thead>\n",
       "        <tr>\n",
       "            <th>AVG(&quot;PAYLOAD_MASS__KG_&quot;)</th>\n",
       "        </tr>\n",
       "    </thead>\n",
       "    <tbody>\n",
       "        <tr>\n",
       "            <td>2928.4</td>\n",
       "        </tr>\n",
       "    </tbody>\n",
       "</table>"
      ]
     },
     "execution_count": 14,
     "metadata": {},
     "output_type": "execute_result"
    }
   ],
   "execution_count": 14
  },
  {
   "metadata": {},
   "cell_type": "markdown",
   "source": [
    "# Task 5\n",
    "- List the date when the first succesful landing outcome in ground pad was acheived."
   ],
   "id": "7bf63bb1eb454625"
  },
  {
   "metadata": {
    "ExecuteTime": {
     "end_time": "2025-05-30T19:52:01.924296Z",
     "start_time": "2025-05-30T19:52:01.920649Z"
    }
   },
   "cell_type": "code",
   "source": "%sql SELECT MIN(\"Date\") as First_Successful_Landing_Ground_Pad from SPACEXTABLE WHERE Landing_Outcome LIKE '%Success%' AND Landing_Outcome LIKE '%ground pad%';",
   "id": "4a035a3ec1144712",
   "outputs": [
    {
     "name": "stdout",
     "output_type": "stream",
     "text": [
      " * sqlite:///my_data1.db\n",
      "Done.\n"
     ]
    },
    {
     "data": {
      "text/plain": [
       "[('2015-12-22',)]"
      ],
      "text/html": [
       "<table>\n",
       "    <thead>\n",
       "        <tr>\n",
       "            <th>First_Successful_Landing_Ground_Pad</th>\n",
       "        </tr>\n",
       "    </thead>\n",
       "    <tbody>\n",
       "        <tr>\n",
       "            <td>2015-12-22</td>\n",
       "        </tr>\n",
       "    </tbody>\n",
       "</table>"
      ]
     },
     "execution_count": 15,
     "metadata": {},
     "output_type": "execute_result"
    }
   ],
   "execution_count": 15
  },
  {
   "metadata": {},
   "cell_type": "markdown",
   "source": [
    "# Task 6\n",
    "- List the names of the boosters which have success in drone ship and have payload mass greater than 4000 but less than 6000"
   ],
   "id": "7dce6fd39915503d"
  },
  {
   "metadata": {
    "ExecuteTime": {
     "end_time": "2025-05-30T19:52:01.928777Z",
     "start_time": "2025-05-30T19:52:01.924742Z"
    }
   },
   "cell_type": "code",
   "source": "%sql SELECT \"Booster_Version\" FROM SPACEXTABLE WHERE \"Landing_Outcome\" LIKE '%Success (drone ship)%' AND PAYLOAD_MASS__KG_ > 4000 AND PAYLOAD_MASS__KG_ < 6000;",
   "id": "db6cee7adbb9ea90",
   "outputs": [
    {
     "name": "stdout",
     "output_type": "stream",
     "text": [
      " * sqlite:///my_data1.db\n",
      "Done.\n"
     ]
    },
    {
     "data": {
      "text/plain": [
       "[('F9 FT B1022',), ('F9 FT B1026',), ('F9 FT  B1021.2',), ('F9 FT  B1031.2',)]"
      ],
      "text/html": [
       "<table>\n",
       "    <thead>\n",
       "        <tr>\n",
       "            <th>Booster_Version</th>\n",
       "        </tr>\n",
       "    </thead>\n",
       "    <tbody>\n",
       "        <tr>\n",
       "            <td>F9 FT B1022</td>\n",
       "        </tr>\n",
       "        <tr>\n",
       "            <td>F9 FT B1026</td>\n",
       "        </tr>\n",
       "        <tr>\n",
       "            <td>F9 FT  B1021.2</td>\n",
       "        </tr>\n",
       "        <tr>\n",
       "            <td>F9 FT  B1031.2</td>\n",
       "        </tr>\n",
       "    </tbody>\n",
       "</table>"
      ]
     },
     "execution_count": 16,
     "metadata": {},
     "output_type": "execute_result"
    }
   ],
   "execution_count": 16
  },
  {
   "metadata": {},
   "cell_type": "markdown",
   "source": [
    "# Task 7\n",
    "- List the total number of successful and failure mission outcomes"
   ],
   "id": "7106c56defb4dc49"
  },
  {
   "metadata": {
    "ExecuteTime": {
     "end_time": "2025-05-30T19:57:14.370574Z",
     "start_time": "2025-05-30T19:57:14.343131Z"
    }
   },
   "cell_type": "code",
   "source": "%sql SELECT SUM(CASE WHEN \"Mission_Outcome\" LIKE '%Success%' THEN 1 ELSE 0 END) AS Successful_Missions, SUM(CASE WHEN \"Mission_Outcome\" LIKE '%Failure%' THEN 1 ELSE 0 END) AS Failed_Missions FROM SPACEXTABLE;",
   "id": "ed70d543a8936538",
   "outputs": [
    {
     "name": "stdout",
     "output_type": "stream",
     "text": [
      " * sqlite:///my_data1.db\n",
      "Done.\n"
     ]
    },
    {
     "data": {
      "text/plain": [
       "[(100, 1)]"
      ],
      "text/html": [
       "<table>\n",
       "    <thead>\n",
       "        <tr>\n",
       "            <th>Successful_Missions</th>\n",
       "            <th>Failed_Missions</th>\n",
       "        </tr>\n",
       "    </thead>\n",
       "    <tbody>\n",
       "        <tr>\n",
       "            <td>100</td>\n",
       "            <td>1</td>\n",
       "        </tr>\n",
       "    </tbody>\n",
       "</table>"
      ]
     },
     "execution_count": 19,
     "metadata": {},
     "output_type": "execute_result"
    }
   ],
   "execution_count": 19
  },
  {
   "metadata": {},
   "cell_type": "markdown",
   "source": [
    "# Task 8\n",
    "- List all the booster_versions that have carried the maximum payload mass. Use a subquery."
   ],
   "id": "cc08cac091c01f8b"
  },
  {
   "metadata": {
    "ExecuteTime": {
     "end_time": "2025-05-30T19:59:32.772841Z",
     "start_time": "2025-05-30T19:59:32.747635Z"
    }
   },
   "cell_type": "code",
   "source": "%sql SELECT \"Booster_Version\" FROM SPACEXTABLE WHERE \"PAYLOAD_MASS__KG_\" = (SELECT MAX(\"PAYLOAD_MASS__KG_\") FROM SPACEXTABLE);",
   "id": "8fede76654b1ad5f",
   "outputs": [
    {
     "name": "stdout",
     "output_type": "stream",
     "text": [
      " * sqlite:///my_data1.db\n",
      "Done.\n"
     ]
    },
    {
     "data": {
      "text/plain": [
       "[('F9 B5 B1048.4',),\n",
       " ('F9 B5 B1049.4',),\n",
       " ('F9 B5 B1051.3',),\n",
       " ('F9 B5 B1056.4',),\n",
       " ('F9 B5 B1048.5',),\n",
       " ('F9 B5 B1051.4',),\n",
       " ('F9 B5 B1049.5',),\n",
       " ('F9 B5 B1060.2 ',),\n",
       " ('F9 B5 B1058.3 ',),\n",
       " ('F9 B5 B1051.6',),\n",
       " ('F9 B5 B1060.3',),\n",
       " ('F9 B5 B1049.7 ',)]"
      ],
      "text/html": [
       "<table>\n",
       "    <thead>\n",
       "        <tr>\n",
       "            <th>Booster_Version</th>\n",
       "        </tr>\n",
       "    </thead>\n",
       "    <tbody>\n",
       "        <tr>\n",
       "            <td>F9 B5 B1048.4</td>\n",
       "        </tr>\n",
       "        <tr>\n",
       "            <td>F9 B5 B1049.4</td>\n",
       "        </tr>\n",
       "        <tr>\n",
       "            <td>F9 B5 B1051.3</td>\n",
       "        </tr>\n",
       "        <tr>\n",
       "            <td>F9 B5 B1056.4</td>\n",
       "        </tr>\n",
       "        <tr>\n",
       "            <td>F9 B5 B1048.5</td>\n",
       "        </tr>\n",
       "        <tr>\n",
       "            <td>F9 B5 B1051.4</td>\n",
       "        </tr>\n",
       "        <tr>\n",
       "            <td>F9 B5 B1049.5</td>\n",
       "        </tr>\n",
       "        <tr>\n",
       "            <td>F9 B5 B1060.2 </td>\n",
       "        </tr>\n",
       "        <tr>\n",
       "            <td>F9 B5 B1058.3 </td>\n",
       "        </tr>\n",
       "        <tr>\n",
       "            <td>F9 B5 B1051.6</td>\n",
       "        </tr>\n",
       "        <tr>\n",
       "            <td>F9 B5 B1060.3</td>\n",
       "        </tr>\n",
       "        <tr>\n",
       "            <td>F9 B5 B1049.7 </td>\n",
       "        </tr>\n",
       "    </tbody>\n",
       "</table>"
      ]
     },
     "execution_count": 20,
     "metadata": {},
     "output_type": "execute_result"
    }
   ],
   "execution_count": 20
  },
  {
   "metadata": {},
   "cell_type": "markdown",
   "source": [
    "# Task 9\n",
    "- List the records which will display the month names, failure landing_outcomes in drone ship ,booster versions, launch_site for the months in year 2015.\n",
    "- Note: SQLLite does not support monthnames. So you need to use substr(Date, 6,2) as month to get the months and substr(Date,0,5)='2015' for year."
   ],
   "id": "22a693e4e923fc5e"
  },
  {
   "metadata": {
    "ExecuteTime": {
     "end_time": "2025-05-30T20:03:50.539761Z",
     "start_time": "2025-05-30T20:03:50.517697Z"
    }
   },
   "cell_type": "code",
   "source": [
    "%%sql\n",
    "SELECT\n",
    "    CASE substr(Date, 6, 2)\n",
    "        WHEN '01' THEN 'January'\n",
    "        WHEN '02' THEN 'February'\n",
    "        WHEN '03' THEN 'March'\n",
    "        WHEN '04' THEN 'April'\n",
    "        WHEN '05' THEN 'May'\n",
    "        WHEN '06' THEN 'June'\n",
    "        WHEN '07' THEN 'July'\n",
    "        WHEN '08' THEN 'August'\n",
    "        WHEN '09' THEN 'September'\n",
    "        WHEN '10' THEN 'October'\n",
    "        WHEN '11' THEN 'November'\n",
    "        WHEN '12' THEN 'December'\n",
    "    END AS Month_Name,\n",
    "    Landing_Outcome,\n",
    "    Booster_Version,\n",
    "    Launch_Site\n",
    "FROM SPACEXTABLE\n",
    "WHERE Landing_Outcome LIKE '%Failure (drone ship)%'\n",
    "  AND substr(Date, 1, 4) = '2015';"
   ],
   "id": "d132b00ef889610d",
   "outputs": [
    {
     "name": "stdout",
     "output_type": "stream",
     "text": [
      " * sqlite:///my_data1.db\n",
      "Done.\n"
     ]
    },
    {
     "data": {
      "text/plain": [
       "[('January', 'Failure (drone ship)', 'F9 v1.1 B1012', 'CCAFS LC-40'),\n",
       " ('April', 'Failure (drone ship)', 'F9 v1.1 B1015', 'CCAFS LC-40')]"
      ],
      "text/html": [
       "<table>\n",
       "    <thead>\n",
       "        <tr>\n",
       "            <th>Month_Name</th>\n",
       "            <th>Landing_Outcome</th>\n",
       "            <th>Booster_Version</th>\n",
       "            <th>Launch_Site</th>\n",
       "        </tr>\n",
       "    </thead>\n",
       "    <tbody>\n",
       "        <tr>\n",
       "            <td>January</td>\n",
       "            <td>Failure (drone ship)</td>\n",
       "            <td>F9 v1.1 B1012</td>\n",
       "            <td>CCAFS LC-40</td>\n",
       "        </tr>\n",
       "        <tr>\n",
       "            <td>April</td>\n",
       "            <td>Failure (drone ship)</td>\n",
       "            <td>F9 v1.1 B1015</td>\n",
       "            <td>CCAFS LC-40</td>\n",
       "        </tr>\n",
       "    </tbody>\n",
       "</table>"
      ]
     },
     "execution_count": 22,
     "metadata": {},
     "output_type": "execute_result"
    }
   ],
   "execution_count": 22
  },
  {
   "metadata": {},
   "cell_type": "markdown",
   "source": [
    "# Task 10\n",
    "- Rank the count of landing outcomes (such as Failure (drone ship) or Success (ground pad)) between the date 2010-06-04 and 2017-03-20, in descending order."
   ],
   "id": "8cc8ed79e5545536"
  },
  {
   "metadata": {
    "ExecuteTime": {
     "end_time": "2025-05-30T20:08:13.106499Z",
     "start_time": "2025-05-30T20:08:13.081447Z"
    }
   },
   "cell_type": "code",
   "source": [
    "%%sql\n",
    "SELECT \n",
    "    Landing_Outcome, \n",
    "    COUNT(*) AS Outcome_Count\n",
    "FROM \n",
    "    SPACEXTABLE\n",
    "WHERE \n",
    "    Date >= '2010-06-04' AND Date <= '2017-03-20'\n",
    "GROUP BY \n",
    "    Landing_Outcome\n",
    "ORDER BY \n",
    "    Outcome_Count DESC;\n"
   ],
   "id": "2156f3d7333b2f20",
   "outputs": [
    {
     "name": "stdout",
     "output_type": "stream",
     "text": [
      " * sqlite:///my_data1.db\n",
      "Done.\n"
     ]
    },
    {
     "data": {
      "text/plain": [
       "[('No attempt', 10),\n",
       " ('Success (drone ship)', 5),\n",
       " ('Failure (drone ship)', 5),\n",
       " ('Success (ground pad)', 3),\n",
       " ('Controlled (ocean)', 3),\n",
       " ('Uncontrolled (ocean)', 2),\n",
       " ('Failure (parachute)', 2),\n",
       " ('Precluded (drone ship)', 1)]"
      ],
      "text/html": [
       "<table>\n",
       "    <thead>\n",
       "        <tr>\n",
       "            <th>Landing_Outcome</th>\n",
       "            <th>Outcome_Count</th>\n",
       "        </tr>\n",
       "    </thead>\n",
       "    <tbody>\n",
       "        <tr>\n",
       "            <td>No attempt</td>\n",
       "            <td>10</td>\n",
       "        </tr>\n",
       "        <tr>\n",
       "            <td>Success (drone ship)</td>\n",
       "            <td>5</td>\n",
       "        </tr>\n",
       "        <tr>\n",
       "            <td>Failure (drone ship)</td>\n",
       "            <td>5</td>\n",
       "        </tr>\n",
       "        <tr>\n",
       "            <td>Success (ground pad)</td>\n",
       "            <td>3</td>\n",
       "        </tr>\n",
       "        <tr>\n",
       "            <td>Controlled (ocean)</td>\n",
       "            <td>3</td>\n",
       "        </tr>\n",
       "        <tr>\n",
       "            <td>Uncontrolled (ocean)</td>\n",
       "            <td>2</td>\n",
       "        </tr>\n",
       "        <tr>\n",
       "            <td>Failure (parachute)</td>\n",
       "            <td>2</td>\n",
       "        </tr>\n",
       "        <tr>\n",
       "            <td>Precluded (drone ship)</td>\n",
       "            <td>1</td>\n",
       "        </tr>\n",
       "    </tbody>\n",
       "</table>"
      ]
     },
     "execution_count": 23,
     "metadata": {},
     "output_type": "execute_result"
    }
   ],
   "execution_count": 23
  }
 ],
 "metadata": {
  "kernelspec": {
   "display_name": "Python 3",
   "language": "python",
   "name": "python3"
  },
  "language_info": {
   "codemirror_mode": {
    "name": "ipython",
    "version": 2
   },
   "file_extension": ".py",
   "mimetype": "text/x-python",
   "name": "python",
   "nbconvert_exporter": "python",
   "pygments_lexer": "ipython2",
   "version": "2.7.6"
  }
 },
 "nbformat": 4,
 "nbformat_minor": 5
}
