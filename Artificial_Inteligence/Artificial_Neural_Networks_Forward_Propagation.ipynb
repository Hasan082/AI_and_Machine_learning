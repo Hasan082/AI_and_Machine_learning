{
 "cells": [
  {
   "cell_type": "markdown",
   "id": "3ab9a606",
   "metadata": {},
   "source": [
    "# Artificial Neural Networks - Forward Propagation"
   ]
  },
  {
   "cell_type": "markdown",
   "id": "d75e9a02",
   "metadata": {},
   "source": [
    "### Objective\n",
    "- Build a Neural Network\n",
    "- Compute Weighted Sum at Each Node\n",
    "- Compute Node Activation\n",
    "- Use Forward Propagation to Propagate Data"
   ]
  },
  {
   "cell_type": "markdown",
   "id": "18b4c5d3",
   "metadata": {},
   "source": [
    "<p>Let's start by randomly initializing the weights and the biases in the network. We have 6 weights and 3 biases, one for each node in the hidden layer as well as for each node in the output layer.</p>"
   ]
  },
  {
   "cell_type": "code",
   "id": "0018e377",
   "metadata": {
    "ExecuteTime": {
     "end_time": "2025-06-02T17:37:15.250883Z",
     "start_time": "2025-06-02T17:37:15.092301Z"
    }
   },
   "source": [
    "import numpy as np # import Numpy library to generate \n",
    "\n",
    "weights = np.around(np.random.uniform(size=6), decimals=2) # initialize the weights\n",
    "biases = np.around(np.random.uniform(size=3), decimals=2) # initialize the biases"
   ],
   "outputs": [],
   "execution_count": 1
  },
  {
   "cell_type": "code",
   "id": "c66f7641",
   "metadata": {
    "ExecuteTime": {
     "end_time": "2025-06-02T17:37:15.253950Z",
     "start_time": "2025-06-02T17:37:15.251747Z"
    }
   },
   "source": [
    "print(weights)\n",
    "print(biases)"
   ],
   "outputs": [
    {
     "name": "stdout",
     "output_type": "stream",
     "text": [
      "[0.32 0.62 0.38 0.13 0.27 0.24]\n",
      "[0.4  0.6  0.71]\n"
     ]
    }
   ],
   "execution_count": 2
  },
  {
   "cell_type": "markdown",
   "id": "aae51a42",
   "metadata": {},
   "source": [
    "<p>Now that we have the weights and the biases defined for the network, let's compute the output for a given input, x1 and x2. </p>"
   ]
  },
  {
   "cell_type": "code",
   "id": "d04539b6",
   "metadata": {
    "ExecuteTime": {
     "end_time": "2025-06-02T17:37:15.256031Z",
     "start_time": "2025-06-02T17:37:15.254407Z"
    }
   },
   "source": [
    "x_1 = 0.5 # input 1\n",
    "x_2 = 0.85 # input 2\n",
    "\n",
    "print('x1 is {} and x2 is {}'.format(x_1, x_2))"
   ],
   "outputs": [
    {
     "name": "stdout",
     "output_type": "stream",
     "text": [
      "x1 is 0.5 and x2 is 0.85\n"
     ]
    }
   ],
   "execution_count": 3
  },
  {
   "cell_type": "markdown",
   "id": "a036e82e",
   "metadata": {},
   "source": [
    "<p>\n",
    "Let's start by computing the weighted sum of the inputs, \n",
    ", at the first node of the hidden layer.\n",
    "</p>"
   ]
  },
  {
   "cell_type": "code",
   "id": "431345fc",
   "metadata": {
    "ExecuteTime": {
     "end_time": "2025-06-02T17:37:15.258933Z",
     "start_time": "2025-06-02T17:37:15.257058Z"
    }
   },
   "source": [
    "z_11 = x_1 * weights[0] + x_2 * weights[1] + biases[0]\n",
    "\n",
    "print('The weighted sum of the inputs at the first node in the hidden layer is {}'.format(z_11))"
   ],
   "outputs": [
    {
     "name": "stdout",
     "output_type": "stream",
     "text": [
      "The weighted sum of the inputs at the first node in the hidden layer is 1.0870000000000002\n"
     ]
    }
   ],
   "execution_count": 4
  },
  {
   "cell_type": "markdown",
   "id": "01d2776e",
   "metadata": {},
   "source": [
    "<p>Next, let's compute the weighted sum of the inputs, \n",
    ", at the second node of the hidden layer. Assign the value to z_12.</p>"
   ]
  },
  {
   "cell_type": "code",
   "id": "741df6f7",
   "metadata": {
    "ExecuteTime": {
     "end_time": "2025-06-02T17:37:15.263779Z",
     "start_time": "2025-06-02T17:37:15.259572Z"
    }
   },
   "source": [
    "z_12 = x_1 * weights[2] + x_2 * weights[3] + biases[1]\n",
    "z_12"
   ],
   "outputs": [
    {
     "data": {
      "text/plain": [
       "np.float64(0.9005)"
      ]
     },
     "execution_count": 5,
     "metadata": {},
     "output_type": "execute_result"
    }
   ],
   "execution_count": 5
  },
  {
   "cell_type": "code",
   "id": "34f3e4ed",
   "metadata": {
    "ExecuteTime": {
     "end_time": "2025-06-02T17:37:15.266762Z",
     "start_time": "2025-06-02T17:37:15.264631Z"
    }
   },
   "source": [
    "print('The weighted sum of the inputs at the second node in the hidden layer is {}'.format(np.around(z_12, decimals=4)))"
   ],
   "outputs": [
    {
     "name": "stdout",
     "output_type": "stream",
     "text": [
      "The weighted sum of the inputs at the second node in the hidden layer is 0.9005\n"
     ]
    }
   ],
   "execution_count": 6
  },
  {
   "cell_type": "markdown",
   "id": "ee046efe",
   "metadata": {},
   "source": [
    "Next, assuming a sigmoid activation function, let's compute the activation of the first node, $a_{1, 1}$, in the hidden layer."
   ]
  },
  {
   "cell_type": "code",
   "id": "b6b6ceee",
   "metadata": {
    "ExecuteTime": {
     "end_time": "2025-06-02T17:37:15.269080Z",
     "start_time": "2025-06-02T17:37:15.267178Z"
    }
   },
   "source": [
    "a_11 = 1.0 / (1.0 + np.exp(-z_11))\n",
    "\n",
    "print('The activation of the first node in the hidden layer is {}'.format(np.around(a_11, decimals=4)))"
   ],
   "outputs": [
    {
     "name": "stdout",
     "output_type": "stream",
     "text": [
      "The activation of the first node in the hidden layer is 0.7478\n"
     ]
    }
   ],
   "execution_count": 7
  },
  {
   "cell_type": "markdown",
   "id": "c59d8035",
   "metadata": {},
   "source": [
    "Let's also compute the activation of the second node, $a_{1, 2}$, in the hidden layer. Assign the value to **a_12**."
   ]
  },
  {
   "cell_type": "code",
   "id": "40636f7c",
   "metadata": {
    "ExecuteTime": {
     "end_time": "2025-06-02T17:37:15.271542Z",
     "start_time": "2025-06-02T17:37:15.269524Z"
    }
   },
   "source": [
    "a_12 = 1.0 / (1.0 + np.exp(-z_12))\n",
    "a_12"
   ],
   "outputs": [
    {
     "data": {
      "text/plain": [
       "np.float64(0.711052241940131)"
      ]
     },
     "execution_count": 8,
     "metadata": {},
     "output_type": "execute_result"
    }
   ],
   "execution_count": 8
  },
  {
   "cell_type": "markdown",
   "id": "1659ec21",
   "metadata": {},
   "source": [
    "Now these activations will serve as the inputs to the output layer. So, let's compute the weighted sum of these inputs to the node in the output layer. Assign the value to **z_2**."
   ]
  },
  {
   "metadata": {
    "ExecuteTime": {
     "end_time": "2025-06-02T17:41:35.412160Z",
     "start_time": "2025-06-02T17:41:35.405566Z"
    }
   },
   "cell_type": "code",
   "source": [
    "n = 2 # number of inputs\n",
    "num_hidden_layers = 2 # number of hidden layers\n",
    "m = [2, 2] # number of nodes in each hidden layer\n",
    "num_nodes_output = 1 # number of nodes in the output layer"
   ],
   "id": "728fb58dec4167e7",
   "outputs": [],
   "execution_count": 10
  },
  {
   "metadata": {
    "ExecuteTime": {
     "end_time": "2025-06-02T17:41:36.969655Z",
     "start_time": "2025-06-02T17:41:36.957528Z"
    }
   },
   "cell_type": "code",
   "source": [
    "num_nodes_previous = n # number of nodes in the previous layer\n",
    "\n",
    "network = {} # initialize network an an empty dictionary\n",
    "\n",
    "# loop through each layer and randomly initialize the weights and biases associated with each node\n",
    "# notice how we are adding 1 to the number of hidden layers in order to include the output layer\n",
    "for layer in range(num_hidden_layers + 1): \n",
    "    \n",
    "    # determine name of layer\n",
    "    if layer == num_hidden_layers:\n",
    "        layer_name = 'output'\n",
    "        num_nodes = num_nodes_output\n",
    "    else:\n",
    "        layer_name = 'layer_{}'.format(layer + 1)\n",
    "        num_nodes = m[layer]\n",
    "    \n",
    "    # initialize weights and biases associated with each node in the current layer\n",
    "    network[layer_name] = {}\n",
    "    for node in range(num_nodes):\n",
    "        node_name = 'node_{}'.format(node+1)\n",
    "        network[layer_name][node_name] = {\n",
    "            'weights': np.around(np.random.uniform(size=num_nodes_previous), decimals=2),\n",
    "            'bias': np.around(np.random.uniform(size=1), decimals=2),\n",
    "        }\n",
    "    \n",
    "    num_nodes_previous = num_nodes\n",
    "    \n",
    "print(network) # print network"
   ],
   "id": "c965184cc18ac49b",
   "outputs": [
    {
     "name": "stdout",
     "output_type": "stream",
     "text": [
      "{'layer_1': {'node_1': {'weights': array([0.18, 0.57]), 'bias': array([0.48])}, 'node_2': {'weights': array([0.44, 0.98]), 'bias': array([1.])}}, 'layer_2': {'node_1': {'weights': array([0.04, 0.63]), 'bias': array([0.91])}, 'node_2': {'weights': array([0.55, 0.07]), 'bias': array([0.97])}}, 'output': {'node_1': {'weights': array([0.1 , 0.14]), 'bias': array([0.56])}}}\n"
     ]
    }
   ],
   "execution_count": 11
  },
  {
   "cell_type": "markdown",
   "id": "d446682c",
   "metadata": {},
   "source": []
  },
  {
   "metadata": {
    "ExecuteTime": {
     "end_time": "2025-06-02T17:42:19.768565Z",
     "start_time": "2025-06-02T17:42:19.760926Z"
    }
   },
   "cell_type": "code",
   "source": [
    "def initialize_network(num_inputs, num_hidden_layers, num_nodes_hidden, num_nodes_output):\n",
    "    \n",
    "    num_nodes_previous = num_inputs # number of nodes in the previous layer\n",
    "\n",
    "    network = {}\n",
    "    \n",
    "    # loop through each layer and randomly initialize the weights and biases associated with each layer\n",
    "    for layer in range(num_hidden_layers + 1):\n",
    "        \n",
    "        if layer == num_hidden_layers:\n",
    "            layer_name = 'output' # name last layer in the network output\n",
    "            num_nodes = num_nodes_output\n",
    "        else:\n",
    "            layer_name = 'layer_{}'.format(layer + 1) # otherwise give the layer a number\n",
    "            num_nodes = num_nodes_hidden[layer] \n",
    "        \n",
    "        # initialize weights and bias for each node\n",
    "        network[layer_name] = {}\n",
    "        for node in range(num_nodes):\n",
    "            node_name = 'node_{}'.format(node+1)\n",
    "            network[layer_name][node_name] = {\n",
    "                'weights': np.around(np.random.uniform(size=num_nodes_previous), decimals=2),\n",
    "                'bias': np.around(np.random.uniform(size=1), decimals=2),\n",
    "            }\n",
    "    \n",
    "        num_nodes_previous = num_nodes\n",
    "\n",
    "    return network # return the network"
   ],
   "id": "37182e43f4c1bf1a",
   "outputs": [],
   "execution_count": 12
  }
 ],
 "metadata": {
  "kernelspec": {
   "display_name": "venv",
   "language": "python",
   "name": "python3"
  },
  "language_info": {
   "codemirror_mode": {
    "name": "ipython",
    "version": 3
   },
   "file_extension": ".py",
   "mimetype": "text/x-python",
   "name": "python",
   "nbconvert_exporter": "python",
   "pygments_lexer": "ipython3",
   "version": "3.13.2"
  }
 },
 "nbformat": 4,
 "nbformat_minor": 5
}
