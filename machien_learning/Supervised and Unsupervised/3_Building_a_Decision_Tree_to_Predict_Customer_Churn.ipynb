{
 "cells": [
  {
   "cell_type": "markdown",
   "id": "4fcbb1c4",
   "metadata": {},
   "source": [
    "# Building a Decision Tree to Predict Customer Churn"
   ]
  },
  {
   "cell_type": "markdown",
   "id": "42093362",
   "metadata": {},
   "source": [
    "<p>\n",
    "Imagine you are a data analyst at a telecom company. The marketing department has noticed an increase in customer churn and needs your help to identify which customers are most likely to leave next month.\n",
    "</p>"
   ]
  },
  {
   "cell_type": "markdown",
   "id": "9658c51f",
   "metadata": {},
   "source": [
    "<p><b>My Tasks</b> <br>\n",
    "In this exercise, you will build a decision tree model to predict customer churn for a telecom company. Customer churn refers to when a customer stops doing business with a company. Predicting churn is crucial for businesses to retain customers by addressing their issues proactively.</p>"
   ]
  },
  {
   "cell_type": "markdown",
   "id": "1b395ffc",
   "metadata": {},
   "source": [
    "## PROJECT STEP\n",
    "<p>\n",
    "Dataset Description <br>\n",
    "We will use a synthetic dataset for this exercise. The dataset contains the following columns:</p>\n",
    "\n",
    "- CustomerID: A unique identifier for each customer.\n",
    "- Age: The age of the customer.\n",
    "- MonthlyCharge: The monthly bill amount for the customer.\n",
    "- CustomerServiceCalls: The number of times the customer contacted customer service.\n",
    "- Churn: This is our target variable, indicating whether the customer churned (Yes) or not (No).\n",
    "\n",
    "### Step-by-Step Instructions\n",
    "<p>\n",
    "Setup the Environment: <br>\n",
    "Import necessary libraries: Pandas for data manipulation, Scikit-learn for machine learning, and Matplotlib for visualization. <br>\n",
    "Create the Dataset:<br>\n",
    "Use Python to create a synthetic dataset. We'll make a small dataset for simplicity. <br>\n",
    "Data Preparation:<br>\n",
    "Split the data into features (X) and the target variable (y).<br>\n",
    "Further split the dataset into training and testing sets.<br>\n",
    "Build the Decision Tree Model:<br>\n",
    "Use Scikit-learn to create a DecisionTreeClassifier.<br>\n",
    "Train the model on the training data.<br>\n",
    "Evaluate the Model:<br>\n",
    "Make predictions on the test set.<br>\n",
    "Calculate the accuracy of the model.<br>\n",
    "Visualize the Decision Tree:<br>\n",
    "Use Matplotlib to visualize how the decision tree makes decisions.<br>\n",
    "Discuss the Results:<br>\n",
    "Interpret the decision tree.<br>\n",
    "Discuss how it can be used by the company to reduce customer churn.</p>"
   ]
  },
  {
   "cell_type": "code",
   "execution_count": 2,
   "id": "48f5d317",
   "metadata": {},
   "outputs": [],
   "source": [
    "# Import necessary libraries\n",
    "import pandas as pd\n",
    "import matplotlib.pyplot as plt\n",
    "import warnings\n",
    "from sklearn.model_selection import train_test_split\n",
    "from sklearn.tree import DecisionTreeClassifier\n",
    "from sklearn.metrics import accuracy_score\n",
    "from sklearn import tree\n",
    "warnings.filterwarnings('ignore')"
   ]
  }
 ],
 "metadata": {
  "kernelspec": {
   "display_name": "myenv",
   "language": "python",
   "name": "python3"
  },
  "language_info": {
   "codemirror_mode": {
    "name": "ipython",
    "version": 3
   },
   "file_extension": ".py",
   "mimetype": "text/x-python",
   "name": "python",
   "nbconvert_exporter": "python",
   "pygments_lexer": "ipython3",
   "version": "3.12.3"
  }
 },
 "nbformat": 4,
 "nbformat_minor": 5
}
