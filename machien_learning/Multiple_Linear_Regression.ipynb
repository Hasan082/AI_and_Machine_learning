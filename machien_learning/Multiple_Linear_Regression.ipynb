{
 "cells": [
  {
   "metadata": {},
   "cell_type": "markdown",
   "source": "# Multiple Linear Regression",
   "id": "b300c968b1fcad23"
  },
  {
   "metadata": {},
   "cell_type": "markdown",
   "source": [
    "### Objectives\n",
    "After completing this lab, you will be able to:\n",
    "- Use scikit-learn to implement multiple linear regression\n",
    "- Create, train, and test a multiple linear regression model on real data"
   ],
   "id": "70b36e1ccc994f30"
  },
  {
   "metadata": {},
   "cell_type": "markdown",
   "source": "# Import Library",
   "id": "9a12a35eaf0be67e"
  },
  {
   "metadata": {
    "ExecuteTime": {
     "end_time": "2025-05-15T19:57:15.896729Z",
     "start_time": "2025-05-15T19:57:15.884190Z"
    }
   },
   "cell_type": "code",
   "source": [
    "import numpy as np\n",
    "import matplotlib.pyplot as plt\n",
    "import pandas as pd\n",
    "%matplotlib inline"
   ],
   "id": "14139d4608c6ebb4",
   "outputs": [],
   "execution_count": 1
  },
  {
   "metadata": {},
   "cell_type": "markdown",
   "source": "# Load the data ",
   "id": "4b2f6854e678d15c"
  },
  {
   "metadata": {
    "ExecuteTime": {
     "end_time": "2025-05-15T19:58:25.999801Z",
     "start_time": "2025-05-15T19:58:25.993623Z"
    }
   },
   "cell_type": "code",
   "source": "url= \"https://cf-courses-data.s3.us.cloud-object-storage.appdomain.cloud/IBMDeveloperSkillsNetwork-ML0101EN-SkillsNetwork/labs/Module%202/data/FuelConsumptionCo2.csv\"",
   "id": "908156da1a1c24d5",
   "outputs": [],
   "execution_count": 2
  },
  {
   "metadata": {
    "ExecuteTime": {
     "end_time": "2025-05-15T19:58:44.103746Z",
     "start_time": "2025-05-15T19:58:41.781111Z"
    }
   },
   "cell_type": "code",
   "source": [
    "df = pd.read_csv(url)\n",
    "df.sample(5)"
   ],
   "id": "cfb065785def3808",
   "outputs": [
    {
     "data": {
      "text/plain": [
       "      MODELYEAR        MAKE                        MODEL    VEHICLECLASS  \\\n",
       "646        2014  LAND ROVER  RANGE ROVER SPORT V8 5.0 SC  SUV - STANDARD   \n",
       "606        2014         KIA                      FORTE 5       FULL-SIZE   \n",
       "322        2014       DODGE              DART TURBO AERO        MID-SIZE   \n",
       "1016       2014  VOLKSWAGEN                       BEETLE         COMPACT   \n",
       "324        2014       DODGE              DURANGO AWD FFV  SUV - STANDARD   \n",
       "\n",
       "      ENGINESIZE  CYLINDERS TRANSMISSION FUELTYPE  FUELCONSUMPTION_CITY  \\\n",
       "646          5.0          8          AS8        Z                  17.3   \n",
       "606          1.6          4           M6        X                  11.1   \n",
       "322          1.4          4           M6        X                   8.5   \n",
       "1016         2.0          4           A6        Z                  10.3   \n",
       "324          3.6          6           A8        X                  13.9   \n",
       "\n",
       "      FUELCONSUMPTION_HWY  FUELCONSUMPTION_COMB  FUELCONSUMPTION_COMB_MPG  \\\n",
       "646                  12.2                  15.0                        19   \n",
       "606                   8.2                   9.8                        29   \n",
       "322                   5.8                   7.3                        39   \n",
       "1016                  7.7                   9.1                        31   \n",
       "324                   9.8                  12.1                        23   \n",
       "\n",
       "      CO2EMISSIONS  \n",
       "646            345  \n",
       "606            225  \n",
       "322            168  \n",
       "1016           209  \n",
       "324            278  "
      ],
      "text/html": [
       "<div>\n",
       "<style scoped>\n",
       "    .dataframe tbody tr th:only-of-type {\n",
       "        vertical-align: middle;\n",
       "    }\n",
       "\n",
       "    .dataframe tbody tr th {\n",
       "        vertical-align: top;\n",
       "    }\n",
       "\n",
       "    .dataframe thead th {\n",
       "        text-align: right;\n",
       "    }\n",
       "</style>\n",
       "<table border=\"1\" class=\"dataframe\">\n",
       "  <thead>\n",
       "    <tr style=\"text-align: right;\">\n",
       "      <th></th>\n",
       "      <th>MODELYEAR</th>\n",
       "      <th>MAKE</th>\n",
       "      <th>MODEL</th>\n",
       "      <th>VEHICLECLASS</th>\n",
       "      <th>ENGINESIZE</th>\n",
       "      <th>CYLINDERS</th>\n",
       "      <th>TRANSMISSION</th>\n",
       "      <th>FUELTYPE</th>\n",
       "      <th>FUELCONSUMPTION_CITY</th>\n",
       "      <th>FUELCONSUMPTION_HWY</th>\n",
       "      <th>FUELCONSUMPTION_COMB</th>\n",
       "      <th>FUELCONSUMPTION_COMB_MPG</th>\n",
       "      <th>CO2EMISSIONS</th>\n",
       "    </tr>\n",
       "  </thead>\n",
       "  <tbody>\n",
       "    <tr>\n",
       "      <th>646</th>\n",
       "      <td>2014</td>\n",
       "      <td>LAND ROVER</td>\n",
       "      <td>RANGE ROVER SPORT V8 5.0 SC</td>\n",
       "      <td>SUV - STANDARD</td>\n",
       "      <td>5.0</td>\n",
       "      <td>8</td>\n",
       "      <td>AS8</td>\n",
       "      <td>Z</td>\n",
       "      <td>17.3</td>\n",
       "      <td>12.2</td>\n",
       "      <td>15.0</td>\n",
       "      <td>19</td>\n",
       "      <td>345</td>\n",
       "    </tr>\n",
       "    <tr>\n",
       "      <th>606</th>\n",
       "      <td>2014</td>\n",
       "      <td>KIA</td>\n",
       "      <td>FORTE 5</td>\n",
       "      <td>FULL-SIZE</td>\n",
       "      <td>1.6</td>\n",
       "      <td>4</td>\n",
       "      <td>M6</td>\n",
       "      <td>X</td>\n",
       "      <td>11.1</td>\n",
       "      <td>8.2</td>\n",
       "      <td>9.8</td>\n",
       "      <td>29</td>\n",
       "      <td>225</td>\n",
       "    </tr>\n",
       "    <tr>\n",
       "      <th>322</th>\n",
       "      <td>2014</td>\n",
       "      <td>DODGE</td>\n",
       "      <td>DART TURBO AERO</td>\n",
       "      <td>MID-SIZE</td>\n",
       "      <td>1.4</td>\n",
       "      <td>4</td>\n",
       "      <td>M6</td>\n",
       "      <td>X</td>\n",
       "      <td>8.5</td>\n",
       "      <td>5.8</td>\n",
       "      <td>7.3</td>\n",
       "      <td>39</td>\n",
       "      <td>168</td>\n",
       "    </tr>\n",
       "    <tr>\n",
       "      <th>1016</th>\n",
       "      <td>2014</td>\n",
       "      <td>VOLKSWAGEN</td>\n",
       "      <td>BEETLE</td>\n",
       "      <td>COMPACT</td>\n",
       "      <td>2.0</td>\n",
       "      <td>4</td>\n",
       "      <td>A6</td>\n",
       "      <td>Z</td>\n",
       "      <td>10.3</td>\n",
       "      <td>7.7</td>\n",
       "      <td>9.1</td>\n",
       "      <td>31</td>\n",
       "      <td>209</td>\n",
       "    </tr>\n",
       "    <tr>\n",
       "      <th>324</th>\n",
       "      <td>2014</td>\n",
       "      <td>DODGE</td>\n",
       "      <td>DURANGO AWD FFV</td>\n",
       "      <td>SUV - STANDARD</td>\n",
       "      <td>3.6</td>\n",
       "      <td>6</td>\n",
       "      <td>A8</td>\n",
       "      <td>X</td>\n",
       "      <td>13.9</td>\n",
       "      <td>9.8</td>\n",
       "      <td>12.1</td>\n",
       "      <td>23</td>\n",
       "      <td>278</td>\n",
       "    </tr>\n",
       "  </tbody>\n",
       "</table>\n",
       "</div>"
      ]
     },
     "execution_count": 3,
     "metadata": {},
     "output_type": "execute_result"
    }
   ],
   "execution_count": 3
  },
  {
   "metadata": {},
   "cell_type": "markdown",
   "source": [
    "### FuelConsumption.csv:\n",
    "##### You will download and use a fuel consumption dataset, FuelConsumption.csv, which contains model-specific fuel consumption ratings and estimated carbon dioxide emissions for new light-duty vehicles for retail sale in Canada. Dataset source\n",
    "\n",
    "- MODEL YEAR e.g. 2014\n",
    "- MAKE e.g. VOLVO\n",
    "- MODEL e.g. S60 AWD\n",
    "- VEHICLE CLASS e.g. COMPACT\n",
    "- ENGINE SIZE e.g. 3.0\n",
    "- CYLINDERS e.g 6\n",
    "- TRANSMISSION e.g. AS6\n",
    "- FUEL TYPE e.g. Z\n",
    "- FUEL CONSUMPTION in CITY(L/100 km) e.g. 13.2\n",
    "- FUEL CONSUMPTION in HWY (L/100 km) e.g. 9.5\n",
    "- FUEL CONSUMPTION COMBINED (L/100 km) e.g. 11.5\n",
    "- FUEL CONSUMPTION COMBINED MPG (MPG) e.g. 25\n",
    "- CO2 EMISSIONS (g/km) e.g. 182\n",
    "#### Your task will be to create a multiple linear regression model using some of these features to predict CO2 emissions of unobserved cars based on the selected features."
   ],
   "id": "fd4581ffa0df920f"
  }
 ],
 "metadata": {
  "kernelspec": {
   "display_name": "Python 3",
   "language": "python",
   "name": "python3"
  },
  "language_info": {
   "codemirror_mode": {
    "name": "ipython",
    "version": 2
   },
   "file_extension": ".py",
   "mimetype": "text/x-python",
   "name": "python",
   "nbconvert_exporter": "python",
   "pygments_lexer": "ipython2",
   "version": "2.7.6"
  }
 },
 "nbformat": 4,
 "nbformat_minor": 5
}
