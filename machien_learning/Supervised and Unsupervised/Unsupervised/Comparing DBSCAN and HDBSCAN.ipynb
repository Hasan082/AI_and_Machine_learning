{
 "cells": [
  {
   "cell_type": "markdown",
   "id": "df50b42f-1873-4f63-8c6b-f16033689472",
   "metadata": {},
   "source": [
    "# Comparing DBSCAN and HDBSCAN clustering\n",
    "## Objectives\n",
    "\n",
    "* Use scikit-learn to implement DBSCAN and HDBSCAN clustering models to real data\n",
    "* Compare the performances of the two models"
   ]
  },
  {
   "cell_type": "code",
   "execution_count": null,
   "id": "cbbf3dea-4625-49d6-bec8-32007f51a41b",
   "metadata": {},
   "outputs": [],
   "source": []
  }
 ],
 "metadata": {
  "kernelspec": {
   "display_name": "Python 3 (ipykernel)",
   "language": "python",
   "name": "python3"
  },
  "language_info": {
   "codemirror_mode": {
    "name": "ipython",
    "version": 3
   },
   "file_extension": ".py",
   "mimetype": "text/x-python",
   "name": "python",
   "nbconvert_exporter": "python",
   "pygments_lexer": "ipython3",
   "version": "3.12.3"
  }
 },
 "nbformat": 4,
 "nbformat_minor": 5
}
