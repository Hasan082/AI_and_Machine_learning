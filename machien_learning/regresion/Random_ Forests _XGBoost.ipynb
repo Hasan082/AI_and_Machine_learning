{
 "cells": [
  {
   "cell_type": "markdown",
   "id": "dccacccf-5ac6-4d20-853e-3b3c5fad100c",
   "metadata": {},
   "source": [
    "# Comparing Random Forest and XGBoost modeling performance"
   ]
  },
  {
   "cell_type": "markdown",
   "id": "6639655c-1281-4b60-9031-dae6ced9d5c7",
   "metadata": {},
   "source": [
    "## Objectives\n",
    "* After completing this lab, you will be able to:\n",
    "\n",
    "* Use scikit-learn to implement Random Forest and XGBoost regression models\n",
    "* Compare the performances of the two models"
   ]
  },
  {
   "cell_type": "code",
   "execution_count": 2,
   "id": "1defb3fb-266e-4281-9a84-b432720dc018",
   "metadata": {},
   "outputs": [],
   "source": [
    "# !pip install numpy==2.2.0\n",
    "# !pip install scikit-learn==1.6.0\n",
    "# !pip install matplotlib==3.9.3\n",
    "# !pip install xgboost==2.1.3"
   ]
  },
  {
   "cell_type": "markdown",
   "id": "2f3d5d62-1bc3-4db7-873b-89ebd74e0f80",
   "metadata": {},
   "source": [
    "# Import libraries"
   ]
  },
  {
   "cell_type": "code",
   "execution_count": 9,
   "id": "01763247-8793-454e-bd48-5575d466ece8",
   "metadata": {},
   "outputs": [],
   "source": [
    "import numpy as np\n",
    "import pandas as pd\n",
    "import matplotlib.pyplot as plt\n",
    "from sklearn.datasets import fetch_california_housing\n",
    "from sklearn.model_selection import train_test_split\n",
    "from sklearn.ensemble import RandomForestRegressor\n",
    "from xgboost import XGBRegressor\n",
    "from sklearn.metrics import mean_squared_error, r2_score\n",
    "import time"
   ]
  },
  {
   "cell_type": "code",
   "execution_count": 15,
   "id": "1d59448b-94c1-4bda-8dd9-c930a9f3b034",
   "metadata": {},
   "outputs": [],
   "source": [
    "# Load the California Housing dataset\n",
    "data = fetch_california_housing()\n",
    "X, y = data.data, data.target\n",
    "\n",
    "# Split data into training and test sets\n",
    "X_train, X_test, y_train, y_test = train_test_split(X, y, test_size=0.2, random_state=42)"
   ]
  },
  {
   "cell_type": "markdown",
   "id": "9c221166-92ec-410b-bdb8-cb7148c3b649",
   "metadata": {},
   "source": [
    "# Exercise 1: How many observations and features does the dataset have?"
   ]
  },
  {
   "cell_type": "code",
   "execution_count": 17,
   "id": "b42a4b6c-77ec-430d-92b3-ad5ff2fc9063",
   "metadata": {},
   "outputs": [
    {
     "name": "stdout",
     "output_type": "stream",
     "text": [
      "Number of Observations: 20640\n",
      "Number of Features: 8\n"
     ]
    }
   ],
   "source": [
    "# Enter your code here\n",
    "N_observations, N_features = X.shape\n",
    "print('Number of Observations: ' + str(N_observations))\n",
    "print('Number of Features: ' + str(N_features))"
   ]
  },
  {
   "cell_type": "code",
   "execution_count": null,
   "id": "1ba1a6ea-cdd6-4314-8574-a62d0fc5d428",
   "metadata": {},
   "outputs": [],
   "source": []
  },
  {
   "cell_type": "code",
   "execution_count": null,
   "id": "9764ca02-84e7-48ad-9db9-386e46172069",
   "metadata": {},
   "outputs": [],
   "source": []
  }
 ],
 "metadata": {
  "kernelspec": {
   "display_name": "Python 3 (ipykernel)",
   "language": "python",
   "name": "python3"
  },
  "language_info": {
   "codemirror_mode": {
    "name": "ipython",
    "version": 3
   },
   "file_extension": ".py",
   "mimetype": "text/x-python",
   "name": "python",
   "nbconvert_exporter": "python",
   "pygments_lexer": "ipython3",
   "version": "3.12.3"
  }
 },
 "nbformat": 4,
 "nbformat_minor": 5
}
